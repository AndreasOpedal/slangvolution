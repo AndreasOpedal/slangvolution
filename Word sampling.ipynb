{
 "cells": [
  {
   "cell_type": "markdown",
   "metadata": {},
   "source": [
    "## Part 1 - Grouping slangs into mono- and polysemous"
   ]
  },
  {
   "cell_type": "code",
   "execution_count": 12,
   "metadata": {},
   "outputs": [],
   "source": [
    "import pandas as pd\n",
    "import numpy as np\n",
    "import random"
   ]
  },
  {
   "cell_type": "code",
   "execution_count": 16,
   "metadata": {},
   "outputs": [],
   "source": [
    "all_slangs = pd.read_csv(\"data/filtered_featured_slang_words.csv\")\n",
    "old_slang_list = pd.read_csv(\"slang_words_100.csv\")\n",
    "old_slang_list = old_slang_list.loc[:,\"selected_words\"]"
   ]
  },
  {
   "cell_type": "code",
   "execution_count": 8,
   "metadata": {
    "scrolled": true
   },
   "outputs": [
    {
     "data": {
      "text/plain": [
       "(2644, 2)"
      ]
     },
     "execution_count": 8,
     "metadata": {},
     "output_type": "execute_result"
    }
   ],
   "source": [
    "all_slangs.shape"
   ]
  },
  {
   "cell_type": "code",
   "execution_count": 22,
   "metadata": {},
   "outputs": [
    {
     "data": {
      "text/plain": [
       "['whadja',\n",
       " 'gotsta',\n",
       " 'pecker',\n",
       " 'sport',\n",
       " 'rehab',\n",
       " 'bumfuck',\n",
       " 'YooKay',\n",
       " 'dafuq',\n",
       " 'bowl',\n",
       " 'bromance',\n",
       " 'gnarly',\n",
       " 'pregos',\n",
       " 'threads',\n",
       " 'rehab',\n",
       " 'God',\n",
       " 'gunt',\n",
       " 'spam',\n",
       " 'KMT',\n",
       " 'hells',\n",
       " 'F2F',\n",
       " 'crappy',\n",
       " 'dis',\n",
       " 'rachet',\n",
       " 'jill',\n",
       " 'blowjob',\n",
       " 'tweeker',\n",
       " 'tool',\n",
       " 'walkie',\n",
       " 'booty',\n",
       " 'spec',\n",
       " 'gag',\n",
       " 'duckface',\n",
       " 'rad',\n",
       " 'revert',\n",
       " 'compy',\n",
       " 'locks',\n",
       " 'next-level',\n",
       " 'okee-doke',\n",
       " 'whooty',\n",
       " 'shtick',\n",
       " 'TBA',\n",
       " 'Bible-thumping',\n",
       " 'skeeter',\n",
       " 'crock',\n",
       " 'tl;dr',\n",
       " 'lame-o',\n",
       " 'zooted',\n",
       " 'DFTBA',\n",
       " 'twit',\n",
       " 'ent',\n",
       " 'horribad',\n",
       " 'slack-jawed',\n",
       " 'gansta',\n",
       " 'money',\n",
       " 'carny',\n",
       " 'spec',\n",
       " 'a-list',\n",
       " 'kosher',\n",
       " 'SCNR',\n",
       " 'motherfucking',\n",
       " 'crossfade',\n",
       " 'grub',\n",
       " 'gridlock',\n",
       " 'trisexual',\n",
       " 'sesh',\n",
       " 'AWOL',\n",
       " 'freckle',\n",
       " 'wut',\n",
       " 'zounds',\n",
       " 'sicc',\n",
       " 'spec-ops',\n",
       " 'fire',\n",
       " 'bodice-ripper',\n",
       " 'BFFL',\n",
       " 'WOYM',\n",
       " 'gayborhood',\n",
       " 'shiesty',\n",
       " 'shiznat',\n",
       " 'lemme',\n",
       " 'GLHF',\n",
       " 'sis',\n",
       " 'fap',\n",
       " 'bomb',\n",
       " 'thirsty',\n",
       " 'streak',\n",
       " 'workaround',\n",
       " 'conniption',\n",
       " 'soused',\n",
       " 'CBA',\n",
       " 'styling',\n",
       " 'IBT',\n",
       " 'mozzie',\n",
       " 'grub',\n",
       " 'hasbian',\n",
       " 'annihilated',\n",
       " 'SWF',\n",
       " 'compo',\n",
       " 'peeps',\n",
       " 'zombie']"
      ]
     },
     "execution_count": 22,
     "metadata": {},
     "output_type": "execute_result"
    }
   ],
   "source": [
    "old_slang_list = list(old_slang_list)\n",
    "old_slang_list"
   ]
  },
  {
   "cell_type": "code",
   "execution_count": 19,
   "metadata": {},
   "outputs": [],
   "source": [
    "## new_slangs = []\n",
    "## slang_homonyms = []\n",
    "## deleted_words = []"
   ]
  },
  {
   "cell_type": "code",
   "execution_count": 141,
   "metadata": {},
   "outputs": [
    {
     "name": "stdout",
     "output_type": "stream",
     "text": [
      "[]\n"
     ]
    }
   ],
   "source": [
    "## new_slangs.append(old_slang_list.pop())\n",
    "## slang_homonyms.append(old_slang_list.pop())\n",
    "## deleted_words.append(old_slang_list.pop())\n",
    "## print(old_slang_list[-2:])"
   ]
  },
  {
   "cell_type": "code",
   "execution_count": 145,
   "metadata": {},
   "outputs": [
    {
     "data": {
      "text/plain": [
       "(46, 34, 16)"
      ]
     },
     "execution_count": 145,
     "metadata": {},
     "output_type": "execute_result"
    }
   ],
   "source": [
    "len(new_slangs), len(slang_homonyms), len(deleted_words)"
   ]
  },
  {
   "cell_type": "code",
   "execution_count": 147,
   "metadata": {},
   "outputs": [],
   "source": [
    "pd.DataFrame(new_slangs).to_csv(\"word-lists/monosemous_slangs.csv\")\n",
    "pd.DataFrame(slang_homonyms).to_csv(\"word-lists/polysemous_slangs.csv\")\n",
    "pd.DataFrame(deleted_words).to_csv(\"word-lists/deleted_words.csv\")"
   ]
  },
  {
   "cell_type": "code",
   "execution_count": null,
   "metadata": {},
   "outputs": [],
   "source": []
  },
  {
   "cell_type": "markdown",
   "metadata": {},
   "source": [
    "## Part 2 - Sampling new slangs"
   ]
  },
  {
   "cell_type": "code",
   "execution_count": 18,
   "metadata": {},
   "outputs": [
    {
     "name": "stdout",
     "output_type": "stream",
     "text": [
      "46 34 2644\n"
     ]
    }
   ],
   "source": [
    "mono_slangs = pd.read_csv(\"word-lists/monosemous_slangs.csv\")\n",
    "poly_slangs = pd.read_csv(\"word-lists/polysemous_slangs.csv\")\n",
    "all_slangs = pd.read_csv(\"word-lists/filtered_featured_slang_words.csv\")\n",
    "print(len(mono_slangs), len(poly_slangs), len(all_slangs))"
   ]
  },
  {
   "cell_type": "code",
   "execution_count": 19,
   "metadata": {},
   "outputs": [],
   "source": [
    "mono_slangs = list(mono_slangs.iloc[:,1])\n",
    "poly_slangs = list(poly_slangs.iloc[:,1])\n",
    "all_slangs = list(all_slangs.iloc[:,1])"
   ]
  },
  {
   "cell_type": "markdown",
   "metadata": {},
   "source": [
    "#### Pipeline\n",
    "* Sample slang from all slangs\n",
    "* If slang is abbreviation or multiword expression or exists in slang lists, continue\n",
    "* Elif slang is in MW with a different definition than in OSD (as is or stemmed version) and is not labeled informal or slang, add to poly_slangs\n",
    "* Else, add to monoslangs\n",
    "\n",
    "Note: slangs with multiple slang meanings but no non-slang meanings are put in the mono category"
   ]
  },
  {
   "cell_type": "code",
   "execution_count": 469,
   "metadata": {
    "scrolled": true
   },
   "outputs": [
    {
     "name": "stdout",
     "output_type": "stream",
     "text": [
      "down\n",
      "False\n",
      "False\n"
     ]
    }
   ],
   "source": [
    "slang = random.sample(all_slangs, 1)[0]\n",
    "print(slang)\n",
    "print(slang in mono_slangs)\n",
    "print(slang in poly_slangs)"
   ]
  },
  {
   "cell_type": "code",
   "execution_count": 470,
   "metadata": {
    "scrolled": true
   },
   "outputs": [
    {
     "name": "stdout",
     "output_type": "stream",
     "text": [
      "100 100\n"
     ]
    }
   ],
   "source": [
    "#mono_slangs.append(slang)\n",
    "poly_slangs.append(slang)\n",
    "#mono_slangs.append(\"bupkis\")\n",
    "#poly_slangs.append(\"beef\")\n",
    "print(len(mono_slangs), len(poly_slangs))"
   ]
  },
  {
   "cell_type": "code",
   "execution_count": 471,
   "metadata": {},
   "outputs": [],
   "source": [
    "pd.DataFrame(mono_slangs).to_csv(\"word-lists/100_monosemous_slangs.csv\")\n",
    "pd.DataFrame(poly_slangs).to_csv(\"word-lists/100_polysemous_slangs.csv\")"
   ]
  },
  {
   "cell_type": "code",
   "execution_count": null,
   "metadata": {},
   "outputs": [],
   "source": []
  },
  {
   "cell_type": "markdown",
   "metadata": {},
   "source": [
    "## Compare frequency distributions"
   ]
  },
  {
   "cell_type": "code",
   "execution_count": 480,
   "metadata": {},
   "outputs": [],
   "source": [
    "import wordfreq\n",
    "import matplotlib.pyplot as plt"
   ]
  },
  {
   "cell_type": "code",
   "execution_count": 490,
   "metadata": {},
   "outputs": [],
   "source": [
    "nonslangs = pd.read_csv(\"word-lists/nonslang_words_100.csv\")\n",
    "nonslangs = list(nonslangs.iloc[:,2])"
   ]
  },
  {
   "cell_type": "code",
   "execution_count": 477,
   "metadata": {},
   "outputs": [],
   "source": [
    "mono_freqs = []\n",
    "for word in mono_slangs:\n",
    "    mono_freqs.append(wordfreq.word_frequency(word, lang='en', wordlist='best', minimum=0.0))\n",
    "poly_freqs = []\n",
    "for word in poly_slangs:\n",
    "    poly_freqs.append(wordfreq.word_frequency(word, lang='en', wordlist='best', minimum=0.0))\n",
    "nonslang_freqs = []\n",
    "for word in nonslangs:\n",
    "    nonslang_freqs.append(wordfreq.word_frequency(word, lang='en', wordlist='best', minimum=0.0))"
   ]
  },
  {
   "cell_type": "code",
   "execution_count": 499,
   "metadata": {},
   "outputs": [
    {
     "data": {
      "image/png": "[encoded data removed]",
      "text/plain": [
       "<Figure size 432x288 with 1 Axes>"
      ]
     },
     "metadata": {
      "needs_background": "light"
     },
     "output_type": "display_data"
    }
   ],
   "source": [
    "bins = np.linspace(0, 0.00001, 100)\n",
    "plt.hist(mono_freqs, bins, alpha=0.5, label='Monosemous slangs')\n",
    "plt.hist(poly_freqs, bins, alpha=0.5, label='Polysemous slangs')\n",
    "plt.hist(nonslang_freqs, bins, alpha=0.5, label='Nonslangs')\n",
    "plt.legend(loc='upper right')\n",
    "plt.show()"
   ]
  },
  {
   "cell_type": "code",
   "execution_count": 505,
   "metadata": {},
   "outputs": [
    {
     "name": "stdout",
     "output_type": "stream",
     "text": [
      "12\n",
      "38\n"
     ]
    }
   ],
   "source": [
    "print(sum(np.array(nonslang_freqs) >= 0.00001))\n",
    "print(sum(np.array(poly_freqs) >= 0.00001))"
   ]
  }
 ],
 "metadata": {
  "kernelspec": {
   "display_name": "Python 3",
   "language": "python",
   "name": "python3"
  },
  "language_info": {
   "codemirror_mode": {
    "name": "ipython",
    "version": 3
   },
   "file_extension": ".py",
   "mimetype": "text/x-python",
   "name": "python",
   "nbconvert_exporter": "python",
   "pygments_lexer": "ipython3",
   "version": "3.7.6"
  }
 },
 "nbformat": 4,
 "nbformat_minor": 4
}
