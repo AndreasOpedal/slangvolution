{
 "cells": [
  {
   "cell_type": "markdown",
   "metadata": {},
   "source": [
    "## Part 1 - Grouping slangs into mono- and polysemous"
   ]
  },
  {
   "cell_type": "code",
   "execution_count": 1,
   "metadata": {},
   "outputs": [],
   "source": [
    "import pandas as pd\n",
    "import numpy as np\n",
    "import random"
   ]
  },
  {
   "cell_type": "code",
   "execution_count": 16,
   "metadata": {},
   "outputs": [],
   "source": [
    "all_slangs = pd.read_csv(\"data/filtered_featured_slang_words.csv\")\n",
    "old_slang_list = pd.read_csv(\"slang_words_100.csv\")\n",
    "old_slang_list = old_slang_list.loc[:,\"selected_words\"]"
   ]
  },
  {
   "cell_type": "code",
   "execution_count": 8,
   "metadata": {
    "scrolled": true
   },
   "outputs": [
    {
     "data": {
      "text/plain": [
       "(2644, 2)"
      ]
     },
     "execution_count": 8,
     "metadata": {},
     "output_type": "execute_result"
    }
   ],
   "source": [
    "all_slangs.shape"
   ]
  },
  {
   "cell_type": "code",
   "execution_count": 22,
   "metadata": {},
   "outputs": [
    {
     "data": {
      "text/plain": [
       "['whadja',\n",
       " 'gotsta',\n",
       " 'pecker',\n",
       " 'sport',\n",
       " 'rehab',\n",
       " 'bumfuck',\n",
       " 'YooKay',\n",
       " 'dafuq',\n",
       " 'bowl',\n",
       " 'bromance',\n",
       " 'gnarly',\n",
       " 'pregos',\n",
       " 'threads',\n",
       " 'rehab',\n",
       " 'God',\n",
       " 'gunt',\n",
       " 'spam',\n",
       " 'KMT',\n",
       " 'hells',\n",
       " 'F2F',\n",
       " 'crappy',\n",
       " 'dis',\n",
       " 'rachet',\n",
       " 'jill',\n",
       " 'blowjob',\n",
       " 'tweeker',\n",
       " 'tool',\n",
       " 'walkie',\n",
       " 'booty',\n",
       " 'spec',\n",
       " 'gag',\n",
       " 'duckface',\n",
       " 'rad',\n",
       " 'revert',\n",
       " 'compy',\n",
       " 'locks',\n",
       " 'next-level',\n",
       " 'okee-doke',\n",
       " 'whooty',\n",
       " 'shtick',\n",
       " 'TBA',\n",
       " 'Bible-thumping',\n",
       " 'skeeter',\n",
       " 'crock',\n",
       " 'tl;dr',\n",
       " 'lame-o',\n",
       " 'zooted',\n",
       " 'DFTBA',\n",
       " 'twit',\n",
       " 'ent',\n",
       " 'horribad',\n",
       " 'slack-jawed',\n",
       " 'gansta',\n",
       " 'money',\n",
       " 'carny',\n",
       " 'spec',\n",
       " 'a-list',\n",
       " 'kosher',\n",
       " 'SCNR',\n",
       " 'motherfucking',\n",
       " 'crossfade',\n",
       " 'grub',\n",
       " 'gridlock',\n",
       " 'trisexual',\n",
       " 'sesh',\n",
       " 'AWOL',\n",
       " 'freckle',\n",
       " 'wut',\n",
       " 'zounds',\n",
       " 'sicc',\n",
       " 'spec-ops',\n",
       " 'fire',\n",
       " 'bodice-ripper',\n",
       " 'BFFL',\n",
       " 'WOYM',\n",
       " 'gayborhood',\n",
       " 'shiesty',\n",
       " 'shiznat',\n",
       " 'lemme',\n",
       " 'GLHF',\n",
       " 'sis',\n",
       " 'fap',\n",
       " 'bomb',\n",
       " 'thirsty',\n",
       " 'streak',\n",
       " 'workaround',\n",
       " 'conniption',\n",
       " 'soused',\n",
       " 'CBA',\n",
       " 'styling',\n",
       " 'IBT',\n",
       " 'mozzie',\n",
       " 'grub',\n",
       " 'hasbian',\n",
       " 'annihilated',\n",
       " 'SWF',\n",
       " 'compo',\n",
       " 'peeps',\n",
       " 'zombie']"
      ]
     },
     "execution_count": 22,
     "metadata": {},
     "output_type": "execute_result"
    }
   ],
   "source": [
    "old_slang_list = list(old_slang_list)\n",
    "old_slang_list"
   ]
  },
  {
   "cell_type": "code",
   "execution_count": 19,
   "metadata": {},
   "outputs": [],
   "source": [
    "## new_slangs = []\n",
    "## slang_homonyms = []\n",
    "## deleted_words = []"
   ]
  },
  {
   "cell_type": "code",
   "execution_count": 141,
   "metadata": {},
   "outputs": [
    {
     "name": "stdout",
     "output_type": "stream",
     "text": [
      "[]\n"
     ]
    }
   ],
   "source": [
    "## new_slangs.append(old_slang_list.pop())\n",
    "## slang_homonyms.append(old_slang_list.pop())\n",
    "## deleted_words.append(old_slang_list.pop())\n",
    "## print(old_slang_list[-2:])"
   ]
  },
  {
   "cell_type": "code",
   "execution_count": 145,
   "metadata": {},
   "outputs": [
    {
     "data": {
      "text/plain": [
       "(46, 34, 16)"
      ]
     },
     "execution_count": 145,
     "metadata": {},
     "output_type": "execute_result"
    }
   ],
   "source": [
    "len(new_slangs), len(slang_homonyms), len(deleted_words)"
   ]
  },
  {
   "cell_type": "code",
   "execution_count": 147,
   "metadata": {},
   "outputs": [],
   "source": [
    "pd.DataFrame(new_slangs).to_csv(\"word-lists/monosemous_slangs.csv\")\n",
    "pd.DataFrame(slang_homonyms).to_csv(\"word-lists/polysemous_slangs.csv\")\n",
    "pd.DataFrame(deleted_words).to_csv(\"word-lists/deleted_words.csv\")"
   ]
  },
  {
   "cell_type": "code",
   "execution_count": null,
   "metadata": {},
   "outputs": [],
   "source": []
  },
  {
   "cell_type": "markdown",
   "metadata": {},
   "source": [
    "## Part 2 - Sampling new slangs"
   ]
  },
  {
   "cell_type": "code",
   "execution_count": 18,
   "metadata": {},
   "outputs": [
    {
     "name": "stdout",
     "output_type": "stream",
     "text": [
      "46 34 2644\n"
     ]
    }
   ],
   "source": [
    "mono_slangs = pd.read_csv(\"word-lists/monosemous_slangs.csv\")\n",
    "poly_slangs = pd.read_csv(\"word-lists/polysemous_slangs.csv\")\n",
    "all_slangs = pd.read_csv(\"word-lists/filtered_featured_slang_words.csv\")\n",
    "print(len(mono_slangs), len(poly_slangs), len(all_slangs))"
   ]
  },
  {
   "cell_type": "code",
   "execution_count": 19,
   "metadata": {},
   "outputs": [],
   "source": [
    "mono_slangs = list(mono_slangs.iloc[:,1])\n",
    "poly_slangs = list(poly_slangs.iloc[:,1])\n",
    "all_slangs = list(all_slangs.iloc[:,1])"
   ]
  },
  {
   "cell_type": "markdown",
   "metadata": {},
   "source": [
    "#### Pipeline\n",
    "* Sample slang from all slangs\n",
    "* If slang is abbreviation or multiword expression or exists in slang lists, continue\n",
    "* Elif slang is in MW with a different definition than in OSD (as is or stemmed version) and is not labeled informal or slang, add to poly_slangs\n",
    "* Else, add to monoslangs\n",
    "\n",
    "Note: slangs with multiple slang meanings but no non-slang meanings are put in the mono category"
   ]
  },
  {
   "cell_type": "code",
   "execution_count": 469,
   "metadata": {
    "scrolled": true
   },
   "outputs": [
    {
     "name": "stdout",
     "output_type": "stream",
     "text": [
      "down\n",
      "False\n",
      "False\n"
     ]
    }
   ],
   "source": [
    "slang = random.sample(all_slangs, 1)[0]\n",
    "print(slang)\n",
    "print(slang in mono_slangs)\n",
    "print(slang in poly_slangs)"
   ]
  },
  {
   "cell_type": "code",
   "execution_count": 470,
   "metadata": {
    "scrolled": true
   },
   "outputs": [
    {
     "name": "stdout",
     "output_type": "stream",
     "text": [
      "100 100\n"
     ]
    }
   ],
   "source": [
    "#mono_slangs.append(slang)\n",
    "poly_slangs.append(slang)\n",
    "#mono_slangs.append(\"bupkis\")\n",
    "#poly_slangs.append(\"beef\")\n",
    "print(len(mono_slangs), len(poly_slangs))"
   ]
  },
  {
   "cell_type": "code",
   "execution_count": 471,
   "metadata": {},
   "outputs": [],
   "source": [
    "pd.DataFrame(mono_slangs).to_csv(\"word-lists/100_monosemous_slangs.csv\")\n",
    "pd.DataFrame(poly_slangs).to_csv(\"word-lists/100_polysemous_slangs.csv\")"
   ]
  },
  {
   "cell_type": "code",
   "execution_count": null,
   "metadata": {},
   "outputs": [],
   "source": []
  },
  {
   "cell_type": "markdown",
   "metadata": {},
   "source": [
    "## Compare frequency distributions"
   ]
  },
  {
   "cell_type": "code",
   "execution_count": 1,
   "metadata": {},
   "outputs": [],
   "source": [
    "import wordfreq\n",
    "import matplotlib.pyplot as plt"
   ]
  },
  {
   "cell_type": "code",
   "execution_count": 4,
   "metadata": {},
   "outputs": [
    {
     "data": {
      "text/plain": [
       "1.62e-06"
      ]
     },
     "execution_count": 4,
     "metadata": {},
     "output_type": "execute_result"
    }
   ],
   "source": [
    "wordfreq.word_frequency(\"bling\", lang='en', wordlist='best', minimum=0.0)"
   ]
  },
  {
   "cell_type": "code",
   "execution_count": 490,
   "metadata": {},
   "outputs": [],
   "source": [
    "nonslangs = pd.read_csv(\"word-lists/nonslang_words_100.csv\")\n",
    "nonslangs = list(nonslangs.iloc[:,2])"
   ]
  },
  {
   "cell_type": "code",
   "execution_count": 477,
   "metadata": {},
   "outputs": [],
   "source": [
    "mono_freqs = []\n",
    "for word in mono_slangs:\n",
    "    mono_freqs.append(wordfreq.word_frequency(word, lang='en', wordlist='best', minimum=0.0))\n",
    "poly_freqs = []\n",
    "for word in poly_slangs:\n",
    "    poly_freqs.append(wordfreq.word_frequency(word, lang='en', wordlist='best', minimum=0.0))\n",
    "nonslang_freqs = []\n",
    "for word in nonslangs:\n",
    "    nonslang_freqs.append(wordfreq.word_frequency(word, lang='en', wordlist='best', minimum=0.0))"
   ]
  },
  {
   "cell_type": "code",
   "execution_count": 499,
   "metadata": {},
   "outputs": [
    {
     "data": {
      "image/png": "[encoded data removed]",
      "text/plain": [
       "<Figure size 432x288 with 1 Axes>"
      ]
     },
     "metadata": {
      "needs_background": "light"
     },
     "output_type": "display_data"
    }
   ],
   "source": [
    "bins = np.linspace(0, 0.00001, 100)\n",
    "plt.hist(mono_freqs, bins, alpha=0.5, label='Monosemous slangs')\n",
    "plt.hist(poly_freqs, bins, alpha=0.5, label='Polysemous slangs')\n",
    "plt.hist(nonslang_freqs, bins, alpha=0.5, label='Nonslangs')\n",
    "plt.legend(loc='upper right')\n",
    "plt.show()"
   ]
  },
  {
   "cell_type": "code",
   "execution_count": 505,
   "metadata": {},
   "outputs": [
    {
     "name": "stdout",
     "output_type": "stream",
     "text": [
      "12\n",
      "38\n"
     ]
    }
   ],
   "source": [
    "print(sum(np.array(nonslang_freqs) >= 0.00001))\n",
    "print(sum(np.array(poly_freqs) >= 0.00001))"
   ]
  },
  {
   "cell_type": "markdown",
   "metadata": {},
   "source": [
    "# Compare frequency distributions between random slang and non-slangs\n",
    "Two parts:\n",
    "* Random non-slangs with slangs of only one meaning\n",
    "* Random non-slangs with random slangs (i.e. mono- and polysemous)"
   ]
  },
  {
   "cell_type": "code",
   "execution_count": 11,
   "metadata": {},
   "outputs": [],
   "source": [
    "import wordfreq\n",
    "import matplotlib.pyplot as plt\n",
    "# sample a list of 100 non-slang words uniformly at random\n",
    "random.seed(58)\n",
    "word_dict = wordfreq.get_frequency_dict('en', wordlist='best')\n",
    "all_words = list(word_dict.keys())\n",
    "sampled_nonslangs = random.sample(all_words, 100)\n",
    "nonslang_freqs = []\n",
    "for word in sampled_nonslangs:\n",
    "    nonslang_freqs.append(wordfreq.word_frequency(word, lang='en', wordlist='best', minimum=0.0))"
   ]
  },
  {
   "cell_type": "code",
   "execution_count": 14,
   "metadata": {},
   "outputs": [],
   "source": [
    "# Compare to slangs of only one meaning\n",
    "\n",
    "monosemous_slangs = pd.read_csv(\"word-lists/100_monosemous_slangs.csv\")\n",
    "monosemous_slangs = list(monosemous_slangs.iloc[:,1])\n",
    "mono_freqs = []\n",
    "for word in monosemous_slangs:\n",
    "    mono_freqs.append(wordfreq.word_frequency(word, lang='en', wordlist='best', minimum=0.0))"
   ]
  },
  {
   "cell_type": "code",
   "execution_count": 23,
   "metadata": {},
   "outputs": [
    {
     "data": {
      "image/png": "[encoded data removed]",
      "text/plain": [
       "<Figure size 432x288 with 1 Axes>"
      ]
     },
     "metadata": {
      "needs_background": "light"
     },
     "output_type": "display_data"
    }
   ],
   "source": [
    "bins = np.linspace(0, 0.000001, 100)\n",
    "plt.hist(mono_freqs, bins, alpha=0.5, label='Monosemous slangs')\n",
    "plt.hist(nonslang_freqs, bins, alpha=0.5, label='Nonslangs')\n",
    "plt.legend(loc='upper right')\n",
    "plt.show()"
   ]
  },
  {
   "cell_type": "code",
   "execution_count": 19,
   "metadata": {},
   "outputs": [],
   "source": [
    "# Compare to slangs of one and multiple meanings\n",
    "random.seed(58)\n",
    "all_slangs = pd.read_csv(\"word-lists/filtered_featured_slang_words.csv\")\n",
    "all_slangs = list(all_slangs.iloc[:,1])\n",
    "sampled_slangs = random.sample(all_slangs, 100)\n",
    "slang_freqs = []\n",
    "for word in sampled_slangs:\n",
    "    slang_freqs.append(wordfreq.word_frequency(word, lang='en', wordlist='best', minimum=0.0))"
   ]
  },
  {
   "cell_type": "code",
   "execution_count": 26,
   "metadata": {},
   "outputs": [
    {
     "data": {
      "image/png": "[encoded data removed]",
      "text/plain": [
       "<Figure size 432x288 with 1 Axes>"
      ]
     },
     "metadata": {
      "needs_background": "light"
     },
     "output_type": "display_data"
    }
   ],
   "source": [
    "bins = np.linspace(0, 0.000001, 100)\n",
    "plt.hist(slang_freqs, bins, alpha=0.5, label='Random slangs')\n",
    "plt.hist(nonslang_freqs, bins, alpha=0.5, label='Nonslangs')\n",
    "plt.legend(loc='upper right')\n",
    "plt.show()"
   ]
  },
  {
   "cell_type": "code",
   "execution_count": 27,
   "metadata": {},
   "outputs": [
    {
     "data": {
      "text/plain": [
       "['shatterstar',\n",
       " 'lestrange',\n",
       " 'balalaika',\n",
       " 'crj',\n",
       " 'firmware',\n",
       " 'gses',\n",
       " \"kind've\",\n",
       " 'cumorah',\n",
       " \"crash's\",\n",
       " 'fourfourtwo',\n",
       " \"trigger's\",\n",
       " 'mondy',\n",
       " 'stracey',\n",
       " 'coercively',\n",
       " 'preconditioner',\n",
       " 'asim',\n",
       " 'lifting',\n",
       " 'forry',\n",
       " 'cini',\n",
       " '時',\n",
       " 'controversially',\n",
       " 'zalm',\n",
       " '1cr',\n",
       " 'gigue',\n",
       " 'hounsfield',\n",
       " 'bellies',\n",
       " 'bogeyman',\n",
       " \"trevor's\",\n",
       " 'ethnocultural',\n",
       " 'horton',\n",
       " 'pawed',\n",
       " 'underpayments',\n",
       " 'kusal',\n",
       " 'substantia',\n",
       " 'unsd',\n",
       " \"alda's\",\n",
       " 'browny',\n",
       " \"porter's\",\n",
       " 'warde',\n",
       " 'frats',\n",
       " 'entertaiment',\n",
       " 'phantasm',\n",
       " 'verner',\n",
       " 'pecks',\n",
       " 'minigun',\n",
       " 'spectral',\n",
       " 'temporalities',\n",
       " 'randolf',\n",
       " 'reestablished',\n",
       " 'kinzler',\n",
       " 'blefuscu',\n",
       " 'vigoro',\n",
       " 'patsies',\n",
       " 'nagan',\n",
       " 'ftu',\n",
       " 'dagestanis',\n",
       " 'blackaby',\n",
       " 'resourcing',\n",
       " 'niclas',\n",
       " 'villefort',\n",
       " 'seabee',\n",
       " 'rosenworcel',\n",
       " 'cording',\n",
       " 'obongo',\n",
       " 'propria',\n",
       " 'gotoku',\n",
       " 'vespa',\n",
       " 'darwen',\n",
       " 'castiel',\n",
       " 'sensai',\n",
       " 'disproof',\n",
       " 'cnidaria',\n",
       " 'antidoping',\n",
       " 'reedbuck',\n",
       " 'pluggable',\n",
       " 'châtel',\n",
       " 'normalise',\n",
       " 'juanita',\n",
       " 'rater',\n",
       " 'circulate',\n",
       " 'radiophone',\n",
       " 'walbridge',\n",
       " 'exchanging',\n",
       " '9news',\n",
       " 'unknowns',\n",
       " 'sanford',\n",
       " 'laemmle',\n",
       " 'asilah',\n",
       " '6d',\n",
       " 'universität',\n",
       " 'nanoparticles',\n",
       " 'ixora',\n",
       " 'schism',\n",
       " \"viva's\",\n",
       " 'sloppier',\n",
       " 'maintanance',\n",
       " 'colleary',\n",
       " 'wnew',\n",
       " 'respeck',\n",
       " 'henneman']"
      ]
     },
     "execution_count": 27,
     "metadata": {},
     "output_type": "execute_result"
    }
   ],
   "source": [
    "sampled_nonslangs"
   ]
  },
  {
   "cell_type": "markdown",
   "metadata": {},
   "source": [
    "## Sample 100 nonslang words"
   ]
  },
  {
   "cell_type": "code",
   "execution_count": 28,
   "metadata": {},
   "outputs": [
    {
     "data": {
      "text/plain": [
       "['intimidator',\n",
       " 'kω',\n",
       " 'moliere',\n",
       " \"ezekiel's\",\n",
       " 'pritam',\n",
       " 'fiddled',\n",
       " 'miyama',\n",
       " 'baloyi',\n",
       " 'ngx',\n",
       " 'starsailor',\n",
       " 'galavant',\n",
       " 'humblest',\n",
       " 'gevisser',\n",
       " 'asmodee',\n",
       " 'awesome',\n",
       " 'wuk',\n",
       " 'porto',\n",
       " 'liuzzo',\n",
       " 'bernards',\n",
       " 'steadicam',\n",
       " 'bicolour',\n",
       " 'senryu',\n",
       " 'trampolining',\n",
       " 'uria',\n",
       " 'hamoud',\n",
       " 'allgemeine',\n",
       " 'moyer',\n",
       " 'nusser',\n",
       " 'underated',\n",
       " 'bral',\n",
       " 'wellfield',\n",
       " \"sbs's\",\n",
       " 'thit',\n",
       " 'anticlockwise',\n",
       " 'jute',\n",
       " 'mercier',\n",
       " \"scheme's\",\n",
       " 'uncosted',\n",
       " 'guadaloupe',\n",
       " 'rafiel',\n",
       " 'studsvik',\n",
       " 'grisly',\n",
       " 'alanine',\n",
       " 'notas',\n",
       " 'dunas',\n",
       " 'butane',\n",
       " 'postural',\n",
       " 'eremita',\n",
       " 'lothringen',\n",
       " 'terrifies',\n",
       " 'reedbed',\n",
       " 'moldovan',\n",
       " 'legalist',\n",
       " 'pantsu',\n",
       " 'sección',\n",
       " 'banzai',\n",
       " 'rehabilitations',\n",
       " 'kyum',\n",
       " 's.h.i.e.l.d',\n",
       " \"weirdo's\",\n",
       " 'ajegunle',\n",
       " 'bazouks',\n",
       " 'pepy',\n",
       " 'scallywag',\n",
       " 'heslop',\n",
       " 'pemigewasset',\n",
       " 'hinke',\n",
       " \"pennington's\",\n",
       " \"dom's\",\n",
       " 'unutilized',\n",
       " 'echo',\n",
       " 'heaviest',\n",
       " 'rump',\n",
       " 'flinstone',\n",
       " 'decomposition',\n",
       " 'doubleheaders',\n",
       " 'kinnaur',\n",
       " 'jugglers',\n",
       " 'mackellar',\n",
       " \"mushroom's\",\n",
       " \"fazbear's\",\n",
       " 'clinkscales',\n",
       " 'competencies',\n",
       " 'eina',\n",
       " 'vanadium',\n",
       " 'milepost',\n",
       " 'despoil',\n",
       " 'priebke',\n",
       " 'sympathizer',\n",
       " 'ot',\n",
       " 'nonskid',\n",
       " 'bctf',\n",
       " 'chugh',\n",
       " 'belham',\n",
       " '0,000',\n",
       " 'lawlessness',\n",
       " 'weimaraners',\n",
       " 'xbl',\n",
       " 'monty',\n",
       " 'agenda']"
      ]
     },
     "execution_count": 28,
     "metadata": {},
     "output_type": "execute_result"
    }
   ],
   "source": [
    "random.seed(77)\n",
    "word_dict = wordfreq.get_frequency_dict('en', wordlist='best')\n",
    "all_words = list(word_dict.keys())\n",
    "hundred_nonslangs = random.sample(all_words, 100)\n",
    "hundred_nonslangs"
   ]
  },
  {
   "cell_type": "code",
   "execution_count": 428,
   "metadata": {},
   "outputs": [
    {
     "name": "stdout",
     "output_type": "stream",
     "text": [
      "upgrade\n"
     ]
    }
   ],
   "source": [
    "word = random.sample(all_words, 1)[0]\n",
    "print(word)"
   ]
  },
  {
   "cell_type": "code",
   "execution_count": 429,
   "metadata": {},
   "outputs": [
    {
     "name": "stdout",
     "output_type": "stream",
     "text": [
      "['copyediting', 'adulterous', 'upgrade']\n",
      "100\n"
     ]
    }
   ],
   "source": [
    "complete_nonslangs.append(word)\n",
    "print(complete_nonslangs[-3:])\n",
    "print(len(complete_nonslangs))"
   ]
  },
  {
   "cell_type": "code",
   "execution_count": 430,
   "metadata": {},
   "outputs": [
    {
     "data": {
      "text/plain": [
       "['agenda',\n",
       " 'weimaraner',\n",
       " 'lawlessness',\n",
       " 'chug',\n",
       " 'nonskid',\n",
       " 'sympathizer',\n",
       " 'despoil',\n",
       " 'milepost',\n",
       " 'vanadium',\n",
       " 'competencies',\n",
       " 'clinkstone',\n",
       " 'mushroom',\n",
       " 'jugglers',\n",
       " 'doubleheader',\n",
       " 'decomposition',\n",
       " 'rump',\n",
       " 'heaviest',\n",
       " 'echo',\n",
       " 'unutilized',\n",
       " 'scallywag',\n",
       " 'peppy',\n",
       " 'shield',\n",
       " 'rehabilitations',\n",
       " 'banzai',\n",
       " 'pantsuit',\n",
       " 'legalist',\n",
       " 'moldovan',\n",
       " 'reedbed',\n",
       " 'terrifies',\n",
       " 'postural',\n",
       " 'butane',\n",
       " 'alanine',\n",
       " 'grisly',\n",
       " 'scheme',\n",
       " 'jute',\n",
       " 'anticlockwise',\n",
       " 'underrated',\n",
       " 'uria',\n",
       " 'trampolining',\n",
       " 'bicolour',\n",
       " 'awesome',\n",
       " 'humblest',\n",
       " 'galavant',\n",
       " 'sailor',\n",
       " 'fiddled',\n",
       " 'intimidator',\n",
       " 'hemosiderin',\n",
       " 'bright',\n",
       " 'epilator',\n",
       " 'sabertooth',\n",
       " 'calorie',\n",
       " 'conventionally',\n",
       " 'telogen',\n",
       " 'extravasated',\n",
       " 'deathblow',\n",
       " 'repentant',\n",
       " 'bedchambers',\n",
       " 'superabundance',\n",
       " 'admitting',\n",
       " 'dysthymic',\n",
       " 'scummiest',\n",
       " 'strap',\n",
       " 'guardian',\n",
       " 'shylock',\n",
       " 'minmax',\n",
       " 'glutton',\n",
       " 'squall',\n",
       " 'antipathies',\n",
       " 'camara',\n",
       " 'underpainting',\n",
       " 'morphology',\n",
       " 'subtended',\n",
       " 'avoiders',\n",
       " 'outlawing',\n",
       " 'timbral',\n",
       " 'protocol',\n",
       " 'cytometer',\n",
       " 'ignites',\n",
       " 'didot',\n",
       " 'sculptured',\n",
       " 'committeeman',\n",
       " 'snug',\n",
       " 'paleontology',\n",
       " 'mistreatment',\n",
       " 'greeting',\n",
       " 'conniption',\n",
       " 'sensuousness',\n",
       " 'groans',\n",
       " 'unlike',\n",
       " 'unmatched',\n",
       " 'steeple',\n",
       " 'estimated',\n",
       " 'contenders',\n",
       " 'allotted',\n",
       " 'conferral',\n",
       " 'enhancements',\n",
       " 'rufescent',\n",
       " 'copyediting',\n",
       " 'adulterous',\n",
       " 'upgrade']"
      ]
     },
     "execution_count": 430,
     "metadata": {},
     "output_type": "execute_result"
    }
   ],
   "source": [
    "complete_nonslangs"
   ]
  },
  {
   "cell_type": "code",
   "execution_count": 431,
   "metadata": {},
   "outputs": [],
   "source": [
    "pd.DataFrame(complete_nonslangs).to_csv(\"word-lists/100_nonslangs.csv\")"
   ]
  },
  {
   "cell_type": "markdown",
   "metadata": {},
   "source": [
    "## Merging to one dataframe"
   ]
  },
  {
   "cell_type": "code",
   "execution_count": 432,
   "metadata": {},
   "outputs": [],
   "source": [
    "slangs = pd.read_csv(\"word-lists/100_slangs.csv\")\n",
    "nonslangs = pd.read_csv(\"word-lists/100_nonslangs.csv\")\n",
    "hybrids = pd.read_csv(\"word-lists/100_hybrids.csv\")"
   ]
  },
  {
   "cell_type": "code",
   "execution_count": 436,
   "metadata": {},
   "outputs": [],
   "source": [
    "slangs[\"type\"] = \"slang\"\n",
    "nonslangs[\"type\"] = \"nonslang\"\n",
    "hybrids[\"type\"] = \"both\""
   ]
  },
  {
   "cell_type": "code",
   "execution_count": 444,
   "metadata": {},
   "outputs": [
    {
     "data": {
      "text/html": [
       "<div>\n",
       "<style scoped>\n",
       "    .dataframe tbody tr th:only-of-type {\n",
       "        vertical-align: middle;\n",
       "    }\n",
       "\n",
       "    .dataframe tbody tr th {\n",
       "        vertical-align: top;\n",
       "    }\n",
       "\n",
       "    .dataframe thead th {\n",
       "        text-align: right;\n",
       "    }\n",
       "</style>\n",
       "<table border=\"1\" class=\"dataframe\">\n",
       "  <thead>\n",
       "    <tr style=\"text-align: right;\">\n",
       "      <th></th>\n",
       "      <th>word</th>\n",
       "      <th>type</th>\n",
       "    </tr>\n",
       "  </thead>\n",
       "  <tbody>\n",
       "    <tr>\n",
       "      <th>0</th>\n",
       "      <td>peeps</td>\n",
       "      <td>slang</td>\n",
       "    </tr>\n",
       "    <tr>\n",
       "      <th>1</th>\n",
       "      <td>compo</td>\n",
       "      <td>slang</td>\n",
       "    </tr>\n",
       "    <tr>\n",
       "      <th>2</th>\n",
       "      <td>hasbian</td>\n",
       "      <td>slang</td>\n",
       "    </tr>\n",
       "    <tr>\n",
       "      <th>3</th>\n",
       "      <td>mozzie</td>\n",
       "      <td>slang</td>\n",
       "    </tr>\n",
       "    <tr>\n",
       "      <th>4</th>\n",
       "      <td>soused</td>\n",
       "      <td>slang</td>\n",
       "    </tr>\n",
       "    <tr>\n",
       "      <th>...</th>\n",
       "      <td>...</td>\n",
       "      <td>...</td>\n",
       "    </tr>\n",
       "    <tr>\n",
       "      <th>95</th>\n",
       "      <td>sneak</td>\n",
       "      <td>both</td>\n",
       "    </tr>\n",
       "    <tr>\n",
       "      <th>96</th>\n",
       "      <td>ghost</td>\n",
       "      <td>both</td>\n",
       "    </tr>\n",
       "    <tr>\n",
       "      <th>97</th>\n",
       "      <td>hitter</td>\n",
       "      <td>both</td>\n",
       "    </tr>\n",
       "    <tr>\n",
       "      <th>98</th>\n",
       "      <td>smoked</td>\n",
       "      <td>both</td>\n",
       "    </tr>\n",
       "    <tr>\n",
       "      <th>99</th>\n",
       "      <td>down</td>\n",
       "      <td>both</td>\n",
       "    </tr>\n",
       "  </tbody>\n",
       "</table>\n",
       "<p>300 rows × 2 columns</p>\n",
       "</div>"
      ],
      "text/plain": [
       "       word   type\n",
       "0     peeps  slang\n",
       "1     compo  slang\n",
       "2   hasbian  slang\n",
       "3    mozzie  slang\n",
       "4    soused  slang\n",
       "..      ...    ...\n",
       "95    sneak   both\n",
       "96    ghost   both\n",
       "97   hitter   both\n",
       "98   smoked   both\n",
       "99     down   both\n",
       "\n",
       "[300 rows x 2 columns]"
      ]
     },
     "execution_count": 444,
     "metadata": {},
     "output_type": "execute_result"
    }
   ],
   "source": [
    "all_words = pd.concat([slangs.iloc[:,1:], nonslangs.iloc[:,1:], hybrids.iloc[:,1:]])\n",
    "all_words.columns = [\"word\", \"type\"]\n",
    "all_words"
   ]
  },
  {
   "cell_type": "code",
   "execution_count": 445,
   "metadata": {},
   "outputs": [
    {
     "data": {
      "text/html": [
       "<div>\n",
       "<style scoped>\n",
       "    .dataframe tbody tr th:only-of-type {\n",
       "        vertical-align: middle;\n",
       "    }\n",
       "\n",
       "    .dataframe tbody tr th {\n",
       "        vertical-align: top;\n",
       "    }\n",
       "\n",
       "    .dataframe thead th {\n",
       "        text-align: right;\n",
       "    }\n",
       "</style>\n",
       "<table border=\"1\" class=\"dataframe\">\n",
       "  <thead>\n",
       "    <tr style=\"text-align: right;\">\n",
       "      <th></th>\n",
       "      <th>word</th>\n",
       "      <th>type</th>\n",
       "      <th>wordfreq_freq</th>\n",
       "    </tr>\n",
       "  </thead>\n",
       "  <tbody>\n",
       "    <tr>\n",
       "      <th>0</th>\n",
       "      <td>peeps</td>\n",
       "      <td>slang</td>\n",
       "      <td>1.260000e-06</td>\n",
       "    </tr>\n",
       "    <tr>\n",
       "      <th>1</th>\n",
       "      <td>compo</td>\n",
       "      <td>slang</td>\n",
       "      <td>2.140000e-07</td>\n",
       "    </tr>\n",
       "    <tr>\n",
       "      <th>2</th>\n",
       "      <td>hasbian</td>\n",
       "      <td>slang</td>\n",
       "      <td>0.000000e+00</td>\n",
       "    </tr>\n",
       "    <tr>\n",
       "      <th>3</th>\n",
       "      <td>mozzie</td>\n",
       "      <td>slang</td>\n",
       "      <td>7.080000e-08</td>\n",
       "    </tr>\n",
       "    <tr>\n",
       "      <th>4</th>\n",
       "      <td>soused</td>\n",
       "      <td>slang</td>\n",
       "      <td>5.370000e-08</td>\n",
       "    </tr>\n",
       "  </tbody>\n",
       "</table>\n",
       "</div>"
      ],
      "text/plain": [
       "      word   type  wordfreq_freq\n",
       "0    peeps  slang   1.260000e-06\n",
       "1    compo  slang   2.140000e-07\n",
       "2  hasbian  slang   0.000000e+00\n",
       "3   mozzie  slang   7.080000e-08\n",
       "4   soused  slang   5.370000e-08"
      ]
     },
     "execution_count": 445,
     "metadata": {},
     "output_type": "execute_result"
    }
   ],
   "source": [
    "wordfreqs = []\n",
    "for word in all_words[\"word\"]:\n",
    "    wordfreqs.append(wordfreq.word_frequency(word, lang='en', wordlist='best', minimum=0.0))\n",
    "all_words[\"wordfreq_freq\"] = wordfreqs\n",
    "all_words.head()"
   ]
  },
  {
   "cell_type": "code",
   "execution_count": 459,
   "metadata": {},
   "outputs": [],
   "source": [
    "all_words[\"is_saved\"] = False"
   ]
  },
  {
   "cell_type": "code",
   "execution_count": 461,
   "metadata": {},
   "outputs": [],
   "source": [
    "all_words.to_csv(\"word-lists/all_words_300.csv\")"
   ]
  },
  {
   "cell_type": "code",
   "execution_count": null,
   "metadata": {},
   "outputs": [],
   "source": []
  },
  {
   "cell_type": "code",
   "execution_count": null,
   "metadata": {},
   "outputs": [],
   "source": []
  },
  {
   "cell_type": "code",
   "execution_count": 1,
   "metadata": {},
   "outputs": [],
   "source": [
    "## word list\n",
    "import pandas as pd\n",
    "word_list = pd.read_csv(\"word-lists/all_words_300.csv\")"
   ]
  },
  {
   "cell_type": "code",
   "execution_count": 5,
   "metadata": {},
   "outputs": [],
   "source": [
    "word_list = word_list.loc[:,[\"word\", \"type\", \"wordfreq_freq\", \"is_saved\"]]"
   ]
  },
  {
   "cell_type": "code",
   "execution_count": 17,
   "metadata": {},
   "outputs": [],
   "source": [
    "import numpy as np\n",
    "word_list = word_list.iloc[(word_list[[\"word\"]] != \"clinkstone\").values,:]\n",
    "word_list = word_list.iloc[(word_list[[\"word\"]] != \"camara\").values,:]\n",
    "word_list = word_list.iloc[(word_list[[\"word\"]] != \"minmax\").values,:]\n",
    "word_list = word_list.reset_index()"
   ]
  },
  {
   "cell_type": "code",
   "execution_count": 25,
   "metadata": {},
   "outputs": [],
   "source": [
    "word_list.to_csv(\"word-lists/all_words_300.csv\", index=False)"
   ]
  },
  {
   "cell_type": "code",
   "execution_count": 24,
   "metadata": {},
   "outputs": [
    {
     "data": {
      "text/html": [
       "<div>\n",
       "<style scoped>\n",
       "    .dataframe tbody tr th:only-of-type {\n",
       "        vertical-align: middle;\n",
       "    }\n",
       "\n",
       "    .dataframe tbody tr th {\n",
       "        vertical-align: top;\n",
       "    }\n",
       "\n",
       "    .dataframe thead th {\n",
       "        text-align: right;\n",
       "    }\n",
       "</style>\n",
       "<table border=\"1\" class=\"dataframe\">\n",
       "  <thead>\n",
       "    <tr style=\"text-align: right;\">\n",
       "      <th></th>\n",
       "      <th>word</th>\n",
       "      <th>type</th>\n",
       "      <th>wordfreq_freq</th>\n",
       "      <th>is_saved</th>\n",
       "    </tr>\n",
       "  </thead>\n",
       "  <tbody>\n",
       "    <tr>\n",
       "      <th>0</th>\n",
       "      <td>peeps</td>\n",
       "      <td>slang</td>\n",
       "      <td>1.260000e-06</td>\n",
       "      <td>True</td>\n",
       "    </tr>\n",
       "    <tr>\n",
       "      <th>1</th>\n",
       "      <td>compo</td>\n",
       "      <td>slang</td>\n",
       "      <td>2.140000e-07</td>\n",
       "      <td>True</td>\n",
       "    </tr>\n",
       "    <tr>\n",
       "      <th>2</th>\n",
       "      <td>hasbian</td>\n",
       "      <td>slang</td>\n",
       "      <td>0.000000e+00</td>\n",
       "      <td>True</td>\n",
       "    </tr>\n",
       "    <tr>\n",
       "      <th>3</th>\n",
       "      <td>mozzie</td>\n",
       "      <td>slang</td>\n",
       "      <td>7.080000e-08</td>\n",
       "      <td>True</td>\n",
       "    </tr>\n",
       "    <tr>\n",
       "      <th>4</th>\n",
       "      <td>soused</td>\n",
       "      <td>slang</td>\n",
       "      <td>5.370000e-08</td>\n",
       "      <td>True</td>\n",
       "    </tr>\n",
       "    <tr>\n",
       "      <th>...</th>\n",
       "      <td>...</td>\n",
       "      <td>...</td>\n",
       "      <td>...</td>\n",
       "      <td>...</td>\n",
       "    </tr>\n",
       "    <tr>\n",
       "      <th>292</th>\n",
       "      <td>sneak</td>\n",
       "      <td>both</td>\n",
       "      <td>9.770000e-06</td>\n",
       "      <td>False</td>\n",
       "    </tr>\n",
       "    <tr>\n",
       "      <th>293</th>\n",
       "      <td>ghost</td>\n",
       "      <td>both</td>\n",
       "      <td>2.630000e-05</td>\n",
       "      <td>False</td>\n",
       "    </tr>\n",
       "    <tr>\n",
       "      <th>294</th>\n",
       "      <td>hitter</td>\n",
       "      <td>both</td>\n",
       "      <td>3.160000e-06</td>\n",
       "      <td>False</td>\n",
       "    </tr>\n",
       "    <tr>\n",
       "      <th>295</th>\n",
       "      <td>smoked</td>\n",
       "      <td>both</td>\n",
       "      <td>8.320000e-06</td>\n",
       "      <td>False</td>\n",
       "    </tr>\n",
       "    <tr>\n",
       "      <th>296</th>\n",
       "      <td>down</td>\n",
       "      <td>both</td>\n",
       "      <td>7.590000e-04</td>\n",
       "      <td>False</td>\n",
       "    </tr>\n",
       "  </tbody>\n",
       "</table>\n",
       "<p>297 rows × 4 columns</p>\n",
       "</div>"
      ],
      "text/plain": [
       "        word   type  wordfreq_freq  is_saved\n",
       "0      peeps  slang   1.260000e-06      True\n",
       "1      compo  slang   2.140000e-07      True\n",
       "2    hasbian  slang   0.000000e+00      True\n",
       "3     mozzie  slang   7.080000e-08      True\n",
       "4     soused  slang   5.370000e-08      True\n",
       "..       ...    ...            ...       ...\n",
       "292    sneak   both   9.770000e-06     False\n",
       "293    ghost   both   2.630000e-05     False\n",
       "294   hitter   both   3.160000e-06     False\n",
       "295   smoked   both   8.320000e-06     False\n",
       "296     down   both   7.590000e-04     False\n",
       "\n",
       "[297 rows x 4 columns]"
      ]
     },
     "execution_count": 24,
     "metadata": {},
     "output_type": "execute_result"
    }
   ],
   "source": [
    "word_list"
   ]
  },
  {
   "cell_type": "code",
   "execution_count": null,
   "metadata": {},
   "outputs": [],
   "source": []
  },
  {
   "cell_type": "markdown",
   "metadata": {},
   "source": [
    "## Semantic change comparing slang and nonslang\n"
   ]
  },
  {
   "cell_type": "code",
   "execution_count": 1,
   "metadata": {},
   "outputs": [
    {
     "name": "stdout",
     "output_type": "stream",
     "text": [
      "p val from mlxtend= 9.999000099990002e-05\n",
      "p val from mc perm= 0.0\n",
      "p val from my perm test= 0.0\n"
     ]
    }
   ],
   "source": [
    "import pandas as pd\n",
    "import seaborn as sns\n",
    "import matplotlib.pyplot as plt\n",
    "from mlxtend.evaluate import permutation_test\n",
    "from causal_analysis import exact_mc_perm_test, my_permutation_test\n",
    "\n",
    "\n",
    "all_words_df = pd.read_csv(\"word-lists/causal_data_input.csv\")\n",
    "slang_APD = list(all_words_df[all_words_df.type == \"slang\"].semantic_change)\n",
    "nonslang_APD = list(all_words_df[all_words_df.type == \"nonslang\"].semantic_change)\n",
    "\n",
    "p_value_mlxtend = permutation_test(slang_APD, nonslang_APD,\n",
    "                           method='approximate',\n",
    "                           num_rounds=10000,\n",
    "                           seed=0)\n",
    "print(\"p val from mlxtend=\",p_value_mlxtend)\n",
    "\n",
    "p_value_mc_perm = exact_mc_perm_test(slang_APD, nonslang_APD, 10000)\n",
    "print(\"p val from mc perm=\", p_value_mc_perm)\n",
    "\n",
    "p_value_my = my_permutation_test(slang_APD, nonslang_APD)\n",
    "print(\"p val from my perm test=\", p_value_my)"
   ]
  },
  {
   "cell_type": "code",
   "execution_count": 7,
   "metadata": {},
   "outputs": [
    {
     "data": {
      "image/png": "[encoded data removed]",
      "text/plain": [
       "<Figure size 432x288 with 1 Axes>"
      ]
     },
     "metadata": {
      "needs_background": "light"
     },
     "output_type": "display_data"
    }
   ],
   "source": [
    "sns.histplot(slang_APD, color='darkorange', label='slang', stat=\"density\")\n",
    "sns.histplot(nonslang_APD, color='mediumslateblue', label='nonslang', stat=\"density\")\n",
    "plt.legend()\n",
    "plt.title(\"Semantic change scores between 2010-2020\")\n",
    "plt.show()"
   ]
  },
  {
   "cell_type": "code",
   "execution_count": 16,
   "metadata": {},
   "outputs": [
    {
     "data": {
      "image/png": "[encoded data removed]",
      "text/plain": [
       "<Figure size 432x288 with 1 Axes>"
      ]
     },
     "metadata": {
      "needs_background": "light"
     },
     "output_type": "display_data"
    }
   ],
   "source": [
    "plt.hist([nonslang_APD,slang_APD], bins=22, color=['mediumslateblue','darkorange'],\n",
    "         label=['nonslang', 'slang'], density=True)\n",
    "plt.legend()\n",
    "plt.title(\"Semantic change between 2010 and 2020\")\n",
    "plt.show()"
   ]
  },
  {
   "cell_type": "code",
   "execution_count": 18,
   "metadata": {},
   "outputs": [
    {
     "data": {
      "text/plain": [
       "-0.008142606163104471"
      ]
     },
     "execution_count": 18,
     "metadata": {},
     "output_type": "execute_result"
    }
   ],
   "source": [
    "import numpy as np\n",
    "np.mean(slang_APD) - np.mean(nonslang_APD)"
   ]
  },
  {
   "cell_type": "code",
   "execution_count": 10,
   "metadata": {},
   "outputs": [
    {
     "name": "stdout",
     "output_type": "stream",
     "text": [
      "0.7386702922325585 0.008840018767773579\n",
      "0.732147424371743 0.008091576488230393\n"
     ]
    }
   ],
   "source": [
    "import numpy as np\n",
    "print(np.nanmean(nonslang_APD), np.nanstd(nonslang_APD))\n",
    "print(np.nanmean(slang_APD), np.nanstd(slang_APD))"
   ]
  },
  {
   "cell_type": "code",
   "execution_count": 4,
   "metadata": {},
   "outputs": [
    {
     "data": {
      "text/html": [
       "<div>\n",
       "<style scoped>\n",
       "    .dataframe tbody tr th:only-of-type {\n",
       "        vertical-align: middle;\n",
       "    }\n",
       "\n",
       "    .dataframe tbody tr th {\n",
       "        vertical-align: top;\n",
       "    }\n",
       "\n",
       "    .dataframe thead th {\n",
       "        text-align: right;\n",
       "    }\n",
       "</style>\n",
       "<table border=\"1\" class=\"dataframe\">\n",
       "  <thead>\n",
       "    <tr style=\"text-align: right;\">\n",
       "      <th></th>\n",
       "      <th>word</th>\n",
       "      <th>type</th>\n",
       "      <th>combined_APD</th>\n",
       "    </tr>\n",
       "  </thead>\n",
       "  <tbody>\n",
       "    <tr>\n",
       "      <th>134</th>\n",
       "      <td>anticlockwise</td>\n",
       "      <td>nonslang</td>\n",
       "      <td>0.774681</td>\n",
       "    </tr>\n",
       "    <tr>\n",
       "      <th>104</th>\n",
       "      <td>nonskid</td>\n",
       "      <td>nonslang</td>\n",
       "      <td>0.758204</td>\n",
       "    </tr>\n",
       "    <tr>\n",
       "      <th>107</th>\n",
       "      <td>milepost</td>\n",
       "      <td>nonslang</td>\n",
       "      <td>0.752336</td>\n",
       "    </tr>\n",
       "    <tr>\n",
       "      <th>300</th>\n",
       "      <td>inclusive</td>\n",
       "      <td>nonslang</td>\n",
       "      <td>0.751632</td>\n",
       "    </tr>\n",
       "    <tr>\n",
       "      <th>99</th>\n",
       "      <td>dogg</td>\n",
       "      <td>slang</td>\n",
       "      <td>0.749259</td>\n",
       "    </tr>\n",
       "    <tr>\n",
       "      <th>125</th>\n",
       "      <td>moldovan</td>\n",
       "      <td>nonslang</td>\n",
       "      <td>0.748866</td>\n",
       "    </tr>\n",
       "    <tr>\n",
       "      <th>132</th>\n",
       "      <td>scheme</td>\n",
       "      <td>nonslang</td>\n",
       "      <td>0.748462</td>\n",
       "    </tr>\n",
       "    <tr>\n",
       "      <th>11</th>\n",
       "      <td>shiesty</td>\n",
       "      <td>slang</td>\n",
       "      <td>0.748194</td>\n",
       "    </tr>\n",
       "    <tr>\n",
       "      <th>190</th>\n",
       "      <td>estimated</td>\n",
       "      <td>nonslang</td>\n",
       "      <td>0.748129</td>\n",
       "    </tr>\n",
       "    <tr>\n",
       "      <th>143</th>\n",
       "      <td>fiddled</td>\n",
       "      <td>nonslang</td>\n",
       "      <td>0.748078</td>\n",
       "    </tr>\n",
       "  </tbody>\n",
       "</table>\n",
       "</div>"
      ],
      "text/plain": [
       "              word      type  combined_APD\n",
       "134  anticlockwise  nonslang      0.774681\n",
       "104        nonskid  nonslang      0.758204\n",
       "107       milepost  nonslang      0.752336\n",
       "300      inclusive  nonslang      0.751632\n",
       "99            dogg     slang      0.749259\n",
       "125       moldovan  nonslang      0.748866\n",
       "132         scheme  nonslang      0.748462\n",
       "11         shiesty     slang      0.748194\n",
       "190      estimated  nonslang      0.748129\n",
       "143        fiddled  nonslang      0.748078"
      ]
     },
     "execution_count": 4,
     "metadata": {},
     "output_type": "execute_result"
    }
   ],
   "source": [
    "all_words_df.sort_values(by=\"combined_APD\", ascending=False)[[\"word\", \"type\",\"combined_APD\"]][:10]"
   ]
  },
  {
   "cell_type": "code",
   "execution_count": 5,
   "metadata": {},
   "outputs": [
    {
     "data": {
      "text/html": [
       "<div>\n",
       "<style scoped>\n",
       "    .dataframe tbody tr th:only-of-type {\n",
       "        vertical-align: middle;\n",
       "    }\n",
       "\n",
       "    .dataframe tbody tr th {\n",
       "        vertical-align: top;\n",
       "    }\n",
       "\n",
       "    .dataframe thead th {\n",
       "        text-align: right;\n",
       "    }\n",
       "</style>\n",
       "<table border=\"1\" class=\"dataframe\">\n",
       "  <thead>\n",
       "    <tr style=\"text-align: right;\">\n",
       "      <th></th>\n",
       "      <th>word</th>\n",
       "      <th>type</th>\n",
       "      <th>combined_APD</th>\n",
       "    </tr>\n",
       "  </thead>\n",
       "  <tbody>\n",
       "    <tr>\n",
       "      <th>45</th>\n",
       "      <td>whadja</td>\n",
       "      <td>slang</td>\n",
       "      <td>0.673801</td>\n",
       "    </tr>\n",
       "    <tr>\n",
       "      <th>60</th>\n",
       "      <td>colitas</td>\n",
       "      <td>slang</td>\n",
       "      <td>0.687271</td>\n",
       "    </tr>\n",
       "    <tr>\n",
       "      <th>83</th>\n",
       "      <td>dudette</td>\n",
       "      <td>slang</td>\n",
       "      <td>0.710243</td>\n",
       "    </tr>\n",
       "    <tr>\n",
       "      <th>31</th>\n",
       "      <td>duckface</td>\n",
       "      <td>slang</td>\n",
       "      <td>0.713957</td>\n",
       "    </tr>\n",
       "    <tr>\n",
       "      <th>18</th>\n",
       "      <td>motherfucking</td>\n",
       "      <td>slang</td>\n",
       "      <td>0.715047</td>\n",
       "    </tr>\n",
       "    <tr>\n",
       "      <th>299</th>\n",
       "      <td>haircut</td>\n",
       "      <td>nonslang</td>\n",
       "      <td>0.715294</td>\n",
       "    </tr>\n",
       "    <tr>\n",
       "      <th>48</th>\n",
       "      <td>roshambo</td>\n",
       "      <td>slang</td>\n",
       "      <td>0.718454</td>\n",
       "    </tr>\n",
       "    <tr>\n",
       "      <th>79</th>\n",
       "      <td>blumpkin</td>\n",
       "      <td>slang</td>\n",
       "      <td>0.719326</td>\n",
       "    </tr>\n",
       "    <tr>\n",
       "      <th>71</th>\n",
       "      <td>dang</td>\n",
       "      <td>slang</td>\n",
       "      <td>0.720404</td>\n",
       "    </tr>\n",
       "    <tr>\n",
       "      <th>49</th>\n",
       "      <td>prettyful</td>\n",
       "      <td>slang</td>\n",
       "      <td>0.720808</td>\n",
       "    </tr>\n",
       "  </tbody>\n",
       "</table>\n",
       "</div>"
      ],
      "text/plain": [
       "              word      type  combined_APD\n",
       "45          whadja     slang      0.673801\n",
       "60         colitas     slang      0.687271\n",
       "83         dudette     slang      0.710243\n",
       "31        duckface     slang      0.713957\n",
       "18   motherfucking     slang      0.715047\n",
       "299        haircut  nonslang      0.715294\n",
       "48        roshambo     slang      0.718454\n",
       "79        blumpkin     slang      0.719326\n",
       "71            dang     slang      0.720404\n",
       "49       prettyful     slang      0.720808"
      ]
     },
     "execution_count": 5,
     "metadata": {},
     "output_type": "execute_result"
    }
   ],
   "source": [
    "all_words_df.sort_values(by=\"combined_APD\", ascending=True)[[\"word\", \"type\",\"combined_APD\"]][:10]"
   ]
  },
  {
   "cell_type": "code",
   "execution_count": 9,
   "metadata": {},
   "outputs": [
    {
     "name": "stdout",
     "output_type": "stream",
     "text": [
      "p val from mlxtend= 9.999000099990002e-05\n"
     ]
    }
   ],
   "source": [
    "from mlxtend.evaluate import permutation_test\n",
    "test = all_words_df.sort_values(by=\"combined_APD\", ascending=True)[[\"word\", \"type\",\"combined_APD\"]][2:]\n",
    "\n",
    "slang_APD = list(test[test.type == \"slang\"].combined_APD)\n",
    "nonslang_APD = list(test[test.type == \"nonslang\"].combined_APD)\n",
    "\n",
    "p_value_mlxtend = permutation_test(slang_APD, nonslang_APD,\n",
    "                           method='approximate',\n",
    "                           num_rounds=10000,\n",
    "                           seed=0)\n",
    "print(\"p val from mlxtend=\",p_value_mlxtend)"
   ]
  },
  {
   "cell_type": "markdown",
   "metadata": {},
   "source": [
    "## Semantic change hybrid words"
   ]
  },
  {
   "cell_type": "code",
   "execution_count": 26,
   "metadata": {},
   "outputs": [
    {
     "data": {
      "text/html": [
       "<div>\n",
       "<style scoped>\n",
       "    .dataframe tbody tr th:only-of-type {\n",
       "        vertical-align: middle;\n",
       "    }\n",
       "\n",
       "    .dataframe tbody tr th {\n",
       "        vertical-align: top;\n",
       "    }\n",
       "\n",
       "    .dataframe thead th {\n",
       "        text-align: right;\n",
       "    }\n",
       "</style>\n",
       "<table border=\"1\" class=\"dataframe\">\n",
       "  <thead>\n",
       "    <tr style=\"text-align: right;\">\n",
       "      <th></th>\n",
       "      <th>Unnamed: 0</th>\n",
       "      <th>Unnamed: 0.1</th>\n",
       "      <th>Unnamed: 0.1.1</th>\n",
       "      <th>Unnamed: 0.1.1.1</th>\n",
       "      <th>Unnamed: 0.1.1.1.1</th>\n",
       "      <th>Unnamed: 0.1.1.1.1.1</th>\n",
       "      <th>Unnamed: 0.1.1.1.1.1.1</th>\n",
       "      <th>Unnamed: 0.1.1.1.1.1.1.1</th>\n",
       "      <th>Unnamed: 0.1.1.1.1.1.1.1.1</th>\n",
       "      <th>Unnamed: 0.1.1.1.1.1.1.1.1.1</th>\n",
       "      <th>...</th>\n",
       "      <th>word</th>\n",
       "      <th>type</th>\n",
       "      <th>wordfreq_freq</th>\n",
       "      <th>is_saved</th>\n",
       "      <th>Euclidian_APD_x</th>\n",
       "      <th>cosine_APD_x</th>\n",
       "      <th>combined_APD_x</th>\n",
       "      <th>Euclidian_APD_y</th>\n",
       "      <th>cosine_APD_y</th>\n",
       "      <th>combined_APD_y</th>\n",
       "    </tr>\n",
       "  </thead>\n",
       "  <tbody>\n",
       "    <tr>\n",
       "      <th>0</th>\n",
       "      <td>0</td>\n",
       "      <td>0</td>\n",
       "      <td>0</td>\n",
       "      <td>0</td>\n",
       "      <td>0</td>\n",
       "      <td>0</td>\n",
       "      <td>0</td>\n",
       "      <td>0</td>\n",
       "      <td>0</td>\n",
       "      <td>0</td>\n",
       "      <td>...</td>\n",
       "      <td>peeps</td>\n",
       "      <td>slang</td>\n",
       "      <td>1.260000e-06</td>\n",
       "      <td>True</td>\n",
       "      <td>151.212372</td>\n",
       "      <td>0.991023</td>\n",
       "      <td>0.732932</td>\n",
       "      <td>NaN</td>\n",
       "      <td>NaN</td>\n",
       "      <td>NaN</td>\n",
       "    </tr>\n",
       "    <tr>\n",
       "      <th>1</th>\n",
       "      <td>1</td>\n",
       "      <td>1</td>\n",
       "      <td>1</td>\n",
       "      <td>1</td>\n",
       "      <td>1</td>\n",
       "      <td>1</td>\n",
       "      <td>1</td>\n",
       "      <td>1</td>\n",
       "      <td>1</td>\n",
       "      <td>1</td>\n",
       "      <td>...</td>\n",
       "      <td>compo</td>\n",
       "      <td>slang</td>\n",
       "      <td>2.140000e-07</td>\n",
       "      <td>True</td>\n",
       "      <td>157.540543</td>\n",
       "      <td>0.999778</td>\n",
       "      <td>0.738720</td>\n",
       "      <td>NaN</td>\n",
       "      <td>NaN</td>\n",
       "      <td>NaN</td>\n",
       "    </tr>\n",
       "    <tr>\n",
       "      <th>2</th>\n",
       "      <td>2</td>\n",
       "      <td>2</td>\n",
       "      <td>2</td>\n",
       "      <td>2</td>\n",
       "      <td>2</td>\n",
       "      <td>2</td>\n",
       "      <td>2</td>\n",
       "      <td>2</td>\n",
       "      <td>2</td>\n",
       "      <td>2</td>\n",
       "      <td>...</td>\n",
       "      <td>hasbian</td>\n",
       "      <td>slang</td>\n",
       "      <td>0.000000e+00</td>\n",
       "      <td>True</td>\n",
       "      <td>147.584442</td>\n",
       "      <td>0.980109</td>\n",
       "      <td>0.724731</td>\n",
       "      <td>NaN</td>\n",
       "      <td>NaN</td>\n",
       "      <td>NaN</td>\n",
       "    </tr>\n",
       "    <tr>\n",
       "      <th>3</th>\n",
       "      <td>3</td>\n",
       "      <td>3</td>\n",
       "      <td>3</td>\n",
       "      <td>3</td>\n",
       "      <td>3</td>\n",
       "      <td>3</td>\n",
       "      <td>3</td>\n",
       "      <td>3</td>\n",
       "      <td>3</td>\n",
       "      <td>3</td>\n",
       "      <td>...</td>\n",
       "      <td>mozzie</td>\n",
       "      <td>slang</td>\n",
       "      <td>7.080000e-08</td>\n",
       "      <td>True</td>\n",
       "      <td>141.399841</td>\n",
       "      <td>0.976911</td>\n",
       "      <td>0.721521</td>\n",
       "      <td>NaN</td>\n",
       "      <td>NaN</td>\n",
       "      <td>NaN</td>\n",
       "    </tr>\n",
       "    <tr>\n",
       "      <th>4</th>\n",
       "      <td>4</td>\n",
       "      <td>4</td>\n",
       "      <td>4</td>\n",
       "      <td>4</td>\n",
       "      <td>4</td>\n",
       "      <td>4</td>\n",
       "      <td>4</td>\n",
       "      <td>4</td>\n",
       "      <td>4</td>\n",
       "      <td>4</td>\n",
       "      <td>...</td>\n",
       "      <td>soused</td>\n",
       "      <td>slang</td>\n",
       "      <td>5.370000e-08</td>\n",
       "      <td>True</td>\n",
       "      <td>154.876999</td>\n",
       "      <td>0.998371</td>\n",
       "      <td>0.739231</td>\n",
       "      <td>NaN</td>\n",
       "      <td>NaN</td>\n",
       "      <td>NaN</td>\n",
       "    </tr>\n",
       "  </tbody>\n",
       "</table>\n",
       "<p>5 rows × 38 columns</p>\n",
       "</div>"
      ],
      "text/plain": [
       "   Unnamed: 0  Unnamed: 0.1  Unnamed: 0.1.1  Unnamed: 0.1.1.1  \\\n",
       "0           0             0               0                 0   \n",
       "1           1             1               1                 1   \n",
       "2           2             2               2                 2   \n",
       "3           3             3               3                 3   \n",
       "4           4             4               4                 4   \n",
       "\n",
       "   Unnamed: 0.1.1.1.1  Unnamed: 0.1.1.1.1.1  Unnamed: 0.1.1.1.1.1.1  \\\n",
       "0                   0                     0                       0   \n",
       "1                   1                     1                       1   \n",
       "2                   2                     2                       2   \n",
       "3                   3                     3                       3   \n",
       "4                   4                     4                       4   \n",
       "\n",
       "   Unnamed: 0.1.1.1.1.1.1.1  Unnamed: 0.1.1.1.1.1.1.1.1  \\\n",
       "0                         0                           0   \n",
       "1                         1                           1   \n",
       "2                         2                           2   \n",
       "3                         3                           3   \n",
       "4                         4                           4   \n",
       "\n",
       "   Unnamed: 0.1.1.1.1.1.1.1.1.1  ...     word   type  wordfreq_freq  is_saved  \\\n",
       "0                             0  ...    peeps  slang   1.260000e-06      True   \n",
       "1                             1  ...    compo  slang   2.140000e-07      True   \n",
       "2                             2  ...  hasbian  slang   0.000000e+00      True   \n",
       "3                             3  ...   mozzie  slang   7.080000e-08      True   \n",
       "4                             4  ...   soused  slang   5.370000e-08      True   \n",
       "\n",
       "   Euclidian_APD_x  cosine_APD_x  combined_APD_x  Euclidian_APD_y  \\\n",
       "0       151.212372      0.991023        0.732932              NaN   \n",
       "1       157.540543      0.999778        0.738720              NaN   \n",
       "2       147.584442      0.980109        0.724731              NaN   \n",
       "3       141.399841      0.976911        0.721521              NaN   \n",
       "4       154.876999      0.998371        0.739231              NaN   \n",
       "\n",
       "   cosine_APD_y  combined_APD_y  \n",
       "0           NaN             NaN  \n",
       "1           NaN             NaN  \n",
       "2           NaN             NaN  \n",
       "3           NaN             NaN  \n",
       "4           NaN             NaN  \n",
       "\n",
       "[5 rows x 38 columns]"
      ]
     },
     "execution_count": 26,
     "metadata": {},
     "output_type": "execute_result"
    }
   ],
   "source": [
    "import pandas as pd\n",
    "import seaborn as sns\n",
    "import matplotlib.pyplot as plt\n",
    "from mlxtend.evaluate import permutation_test\n",
    "from causal_analysis import exact_mc_perm_test, my_permutation_test\n",
    "import numpy as np\n",
    "import math\n",
    "\n",
    "\n",
    "all_words_df = pd.read_csv(\"word-lists/all_words_300_change_scores2.csv\")\n",
    "causal_input_df = pd.read_csv(\"word-lists/causal_data_input.csv\")\n",
    "all_words_df.head()"
   ]
  },
  {
   "cell_type": "code",
   "execution_count": 63,
   "metadata": {},
   "outputs": [
    {
     "name": "stdout",
     "output_type": "stream",
     "text": [
      "Hybrid:  0.7364810260979852 0.007408671696996918\n",
      "Slang:  0.7308572515859442 0.011433193291124447\n",
      "Nonslang:  0.7389998577490486 0.008820609560231528\n"
     ]
    },
    {
     "data": {
      "image/png": "[encoded data removed]",
      "text/plain": [
       "<Figure size 432x288 with 1 Axes>"
      ]
     },
     "metadata": {
      "needs_background": "light"
     },
     "output_type": "display_data"
    }
   ],
   "source": [
    "slang_APD = list(causal_input_df[causal_input_df.type == \"slang\"].semantic_change)\n",
    "nonslang_APD = list(causal_input_df[causal_input_df.type == \"nonslang\"].semantic_change)\n",
    "hybrid_APD = list(all_words_df[all_words_df.type == \"both\"].combined_APD_y)\n",
    "hybrid_APD = [value for value in hybrid_APD if not math.isnan(value)]\n",
    "\n",
    "print(\"Hybrid: \", np.mean(hybrid_APD), np.std(hybrid_APD))\n",
    "print(\"Slang: \", np.mean(slang_APD), np.std(slang_APD))\n",
    "print(\"Nonslang: \", np.mean(nonslang_APD), np.std(nonslang_APD))\n",
    "\n",
    "plt.hist([nonslang_APD,slang_APD,hybrid_APD], bins=22, color=['mediumslateblue','darkorange','xkcd:bright sky blue'],\n",
    "         label=['nonslang', 'slang','hybrid'], density=True)\n",
    "plt.legend()\n",
    "plt.title(\"Semantic change between 2010-2020\")\n",
    "plt.savefig(\"change_scores_hybrid.png\", format=\"png\")\n",
    "plt.show()"
   ]
  },
  {
   "cell_type": "code",
   "execution_count": 54,
   "metadata": {},
   "outputs": [
    {
     "name": "stdout",
     "output_type": "stream",
     "text": [
      "Hybrid and nonslang p val from mlxtend= 0.042195780421957804\n",
      "Hybrid and slang p val from mlxtend= 0.00019998000199980003\n",
      "Slang and nonslang p val from mlxtend= 9.999000099990002e-05\n"
     ]
    }
   ],
   "source": [
    "p_value_mlxtend = permutation_test(hybrid_APD, nonslang_APD,\n",
    "                           method='approximate',\n",
    "                           num_rounds=10000,\n",
    "                           seed=0)\n",
    "print(\"Hybrid and nonslang p val from mlxtend=\",p_value_mlxtend)\n",
    "\n",
    "p_value_mlxtend = permutation_test(hybrid_APD, slang_APD,\n",
    "                           method='approximate',\n",
    "                           num_rounds=10000,\n",
    "                           seed=0)\n",
    "print(\"Hybrid and slang p val from mlxtend=\",p_value_mlxtend)\n",
    "\n",
    "p_value_mlxtend = permutation_test(nonslang_APD, slang_APD,\n",
    "                           method='approximate',\n",
    "                           num_rounds=10000,\n",
    "                           seed=0)\n",
    "print(\"Slang and nonslang p val from mlxtend=\",p_value_mlxtend)"
   ]
  },
  {
   "cell_type": "code",
   "execution_count": 55,
   "metadata": {},
   "outputs": [
    {
     "name": "stdout",
     "output_type": "stream",
     "text": [
      "Hybrid and nonslang p val from t test= 0.044609028783673725 \t t-stat= -2.023296500097746\n",
      "Hybrid and slang p val from t test= 0.0001658927079272045 \t t-stat= 3.8517741255895324\n",
      "Slang and nonslang p val from t test= 1.430780477748986e-06 \t t-stat= 5.011895547679865\n"
     ]
    }
   ],
   "source": [
    "from scipy.stats import ttest_ind\n",
    "stat, p = ttest_ind(hybrid_APD, nonslang_APD)\n",
    "print(\"Hybrid and nonslang p val from t test=\",p, \"\\t t-stat=\",stat)\n",
    "\n",
    "stat, p = ttest_ind(hybrid_APD, slang_APD)\n",
    "print(\"Hybrid and slang p val from t test=\",p, \"\\t t-stat=\",stat)\n",
    "\n",
    "stat, p = ttest_ind(nonslang_APD, slang_APD)\n",
    "print(\"Slang and nonslang p val from t test=\",p, \"\\t t-stat=\",stat)"
   ]
  },
  {
   "cell_type": "code",
   "execution_count": 58,
   "metadata": {},
   "outputs": [
    {
     "data": {
      "text/plain": [
       "92"
      ]
     },
     "execution_count": 58,
     "metadata": {},
     "output_type": "execute_result"
    }
   ],
   "source": [
    "len(hybrid_APD)"
   ]
  },
  {
   "cell_type": "markdown",
   "metadata": {},
   "source": [
    "## Tweet stats"
   ]
  },
  {
   "cell_type": "code",
   "execution_count": 64,
   "metadata": {},
   "outputs": [],
   "source": [
    "from os import listdir\n",
    "from os.path import isfile, join\n",
    "\n",
    "old_slang_path = \"data/tweets_old/slang_word_tweets\"\n",
    "new_slang_path = \"data/tweets_new/slang_word_tweets\"\n",
    "old_nonslang_path = \"data/tweets_old/nonslang_word_tweets\"\n",
    "new_nonslang_path = \"data/tweets_new/nonslang_word_tweets\"\n",
    "\n",
    "old_slangs = [f for f in listdir(old_slang_path) if isfile(join(old_slang_path, f))]\n",
    "new_slangs = [f for f in listdir(new_slang_path) if isfile(join(new_slang_path, f))]\n",
    "old_nonslangs = [f for f in listdir(old_nonslang_path) if isfile(join(old_nonslang_path, f))]\n",
    "new_nonslangs = [f for f in listdir(new_nonslang_path) if isfile(join(new_nonslang_path, f))]"
   ]
  },
  {
   "cell_type": "code",
   "execution_count": 67,
   "metadata": {},
   "outputs": [],
   "source": [
    "old_slang_counts = []\n",
    "for file in old_slangs:\n",
    "    old_slang_counts.append(pd.read_csv(join(old_slang_path,file)).shape[0])\n",
    "    \n",
    "new_slang_counts = []\n",
    "for file in new_slangs:\n",
    "    new_slang_counts.append(pd.read_csv(join(new_slang_path,file)).shape[0])\n",
    "\n",
    "old_nonslang_counts = []\n",
    "for file in old_nonslangs:\n",
    "    old_nonslang_counts.append(pd.read_csv(join(old_nonslang_path,file)).shape[0])\n",
    "\n",
    "new_nonslang_counts = []\n",
    "for file in new_nonslangs:\n",
    "    new_nonslang_counts.append(pd.read_csv(join(new_nonslang_path,file)).shape[0])"
   ]
  },
  {
   "cell_type": "code",
   "execution_count": 69,
   "metadata": {},
   "outputs": [
    {
     "name": "stdout",
     "output_type": "stream",
     "text": [
      "Old slang mean: 370.05806451612904\n",
      "New slang mean: 332.53846153846155\n",
      "Old nonslang mean: 322.79245283018867\n",
      "New nonslang mean: 254.13333333333333\n",
      "Total: 170135\n"
     ]
    }
   ],
   "source": [
    "import numpy as np\n",
    "\n",
    "print(\"Old slang mean:\", np.mean(old_slang_counts))\n",
    "print(\"New slang mean:\", np.mean(new_slang_counts))\n",
    "print(\"Old nonslang mean:\", np.mean(old_nonslang_counts))\n",
    "print(\"New nonslang mean:\", np.mean(new_nonslang_counts))\n",
    "\n",
    "print(\"Total:\", sum(old_slang_counts)+sum(new_slang_counts)+sum(old_nonslang_counts)+sum(new_nonslang_counts))"
   ]
  },
  {
   "cell_type": "markdown",
   "metadata": {},
   "source": [
    "## Create csv file for causality input"
   ]
  },
  {
   "cell_type": "code",
   "execution_count": 64,
   "metadata": {},
   "outputs": [],
   "source": [
    "word_change_scores = pd.read_csv(\"word-lists/all_words_300_change_scores.csv\")\n",
    "slang_polysemy = pd.read_csv(\"word-lists/polysemy_slang.csv\")\n",
    "nonslang_polysemy = pd.read_csv(\"word-lists/polysemy_nonslang.csv\")\n",
    "slang_freq = pd.read_csv(\"data/frequencies/slang_all_freqs.csv\")\n",
    "nonslang_freq = pd.read_csv(\"data/frequencies/nonslang_all_freqs.csv\")\n",
    "\n",
    "word_polysemy = pd.concat([slang_polysemy, nonslang_polysemy])\n",
    "word_freq = pd.concat([slang_freq, nonslang_freq])\n",
    "word_change_scores = word_change_scores[[\"word\", \"type\", \"combined_APD\"]]\n",
    "\n",
    "word_polysemy = word_polysemy[[\"word\",\"polysemy\"]]\n",
    "word_freq = word_freq[[\"word\", \"freq2010\", \"freq2020_norm_6.4\"]]"
   ]
  },
  {
   "cell_type": "code",
   "execution_count": 65,
   "metadata": {},
   "outputs": [],
   "source": [
    "words_complete = word_polysemy.merge(word_freq, left_on=\"word\", right_on=\"word\", how=\"outer\").merge(word_change_scores,\n",
    "                                                                                  left_on=\"word\", right_on=\"word\",\n",
    "                                                                                  how=\"outer\")"
   ]
  },
  {
   "cell_type": "code",
   "execution_count": 66,
   "metadata": {},
   "outputs": [],
   "source": [
    "words_complete = words_complete.loc[words_complete[\"type\"] != \"both\",:][[\"word\", \"polysemy\", \"freq2010\",\n",
    "                                                                       \"freq2020_norm_6.4\", \"type\", \"combined_APD\"]]\n",
    "words_complete.columns = [\"word\", \"polysemy\", \"freq2010\", \"freq2020\", \"type\", \"semantic_change\"]\n",
    "words_complete = words_complete.reset_index(drop=True)"
   ]
  },
  {
   "cell_type": "code",
   "execution_count": 67,
   "metadata": {},
   "outputs": [],
   "source": [
    "words_complete.to_csv(\"data/causal_data_input.csv\", index=False)"
   ]
  }
 ],
 "metadata": {
  "kernelspec": {
   "display_name": "Python 3",
   "language": "python",
   "name": "python3"
  },
  "language_info": {
   "codemirror_mode": {
    "name": "ipython",
    "version": 3
   },
   "file_extension": ".py",
   "mimetype": "text/x-python",
   "name": "python",
   "nbconvert_exporter": "python",
   "pygments_lexer": "ipython3",
   "version": "3.7.6"
  }
 },
 "nbformat": 4,
 "nbformat_minor": 4
}
