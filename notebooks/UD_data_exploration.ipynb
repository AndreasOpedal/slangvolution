{
 "cells": [
  {
   "cell_type": "code",
   "execution_count": 1,
   "metadata": {},
   "outputs": [],
   "source": [
    "import csv\n",
    "import numpy as np\n",
    "import re\n",
    "import pandas as pd\n",
    "from tqdm import tqdm\n",
    "from datetime import datetime\n",
    "import matplotlib.pyplot as plt"
   ]
  },
  {
   "cell_type": "code",
   "execution_count": 4,
   "metadata": {},
   "outputs": [],
   "source": [
    "def defs_to_pandas(fpath):\n",
    "    with open(fpath) as f:\n",
    "        defs = [line.split(sep='|') for line in f]\n",
    "\n",
    "    num_defs = len(defs[1:])\n",
    "\n",
    "    words, timestamps, authors, meanings = [\"\"]*num_defs, [0]*num_defs, [\"\"]*num_defs, [\"\"]*num_defs\n",
    "    examples, dates = [\"\"]*num_defs, [\"\"]*num_defs\n",
    "    numLikes, numDislikes, tagLists = [0]*num_defs, [0]*num_defs, [\"\"]*num_defs\n",
    "\n",
    "    for i, line in enumerate(defs[1:]):\n",
    "        words[i], timestamps[i], authors[i], meanings[i], \\\n",
    "        examples[i], dates[i], numLikes[i], numDislikes[i], tagLists[i] = line\n",
    "\n",
    "    defs_df = pd.DataFrame({\n",
    "        \"word\":words,\n",
    "        \"timestamp\":timestamps,\n",
    "        \"author\":authors,\n",
    "        \"meaning\":meanings,\n",
    "        \"example\":examples,\n",
    "        \"date\":dates,\n",
    "        \"num_likes\":numLikes,\n",
    "        \"num_dislikes\":numDislikes,\n",
    "        \"taglist\":tagLists\n",
    "    })\n",
    "\n",
    "    defs_df[\"date\"] = defs_df.date.apply(process_date)\n",
    "    defs_df[\"word\"] = defs_df.word.apply(lambda x : x.replace('%20',' '))\n",
    "    defs_df[\"num_likes\"] = defs_df.num_likes.apply(str_to_int)\n",
    "    defs_df[\"num_dislikes\"] = defs_df.num_dislikes.apply(str_to_int)\n",
    "    #defs_df[\"timestamp_date\"] = defs_df.timestamp.apply(timestamp_to_date)\n",
    "    defs_df.to_csv(\"defs.csv\")\n",
    "\n",
    "def process_date(date_string):\n",
    "    \"\"\"\n",
    "    turn date of format day-month-year into format year-month-day\n",
    "    e.g. '05-03-2019' turns into '2019-03-05'\n",
    "    \"\"\"\n",
    "    day = date_string[:2]\n",
    "    month = date_string[3:5]\n",
    "    year = date_string[6:]\n",
    "    return (\"-\").join([year,month,day])\n",
    "\n",
    "def str_to_int(x):\n",
    "    try:\n",
    "        return int(x)\n",
    "    except:\n",
    "        return -1\n",
    "\n",
    "def timestamp_to_date(x):\n",
    "    try:\n",
    "        return time.ctime(int(str(x)[:-3]))\n",
    "    except:\n",
    "        return -1"
   ]
  },
  {
   "cell_type": "code",
   "execution_count": 7,
   "metadata": {},
   "outputs": [
    {
     "name": "stderr",
     "output_type": "stream",
     "text": [
      "/Users/andreasopedal/opt/anaconda3/lib/python3.7/site-packages/IPython/core/interactiveshell.py:3063: DtypeWarning: Columns (2) have mixed types.Specify dtype option on import or set low_memory=False.\n",
      "  interactivity=interactivity, compiler=compiler, result=result)\n"
     ]
    },
    {
     "data": {
      "text/html": [
       "<div>\n",
       "<style scoped>\n",
       "    .dataframe tbody tr th:only-of-type {\n",
       "        vertical-align: middle;\n",
       "    }\n",
       "\n",
       "    .dataframe tbody tr th {\n",
       "        vertical-align: top;\n",
       "    }\n",
       "\n",
       "    .dataframe thead th {\n",
       "        text-align: right;\n",
       "    }\n",
       "</style>\n",
       "<table border=\"1\" class=\"dataframe\">\n",
       "  <thead>\n",
       "    <tr style=\"text-align: right;\">\n",
       "      <th></th>\n",
       "      <th>Unnamed: 0</th>\n",
       "      <th>word</th>\n",
       "      <th>timestamp</th>\n",
       "      <th>author</th>\n",
       "      <th>meaning</th>\n",
       "      <th>example</th>\n",
       "      <th>date</th>\n",
       "      <th>num_likes</th>\n",
       "      <th>num_dislikes</th>\n",
       "      <th>taglist</th>\n",
       "    </tr>\n",
       "  </thead>\n",
       "  <tbody>\n",
       "    <tr>\n",
       "      <th>0</th>\n",
       "      <td>0</td>\n",
       "      <td>b stalking</td>\n",
       "      <td>1569405587337</td>\n",
       "      <td>Jennay200812</td>\n",
       "      <td>when someone gives you so much information to ...</td>\n",
       "      <td>\"So how did you date go?\" \"Horrible. This chic...</td>\n",
       "      <td>2008-07-10</td>\n",
       "      <td>2</td>\n",
       "      <td>1</td>\n",
       "      <td>#facebook#e-mail#bad date#stalker#backwards st...</td>\n",
       "    </tr>\n",
       "    <tr>\n",
       "      <th>1</th>\n",
       "      <td>1</td>\n",
       "      <td>Compound-Sampling</td>\n",
       "      <td>1569405587903</td>\n",
       "      <td>NARRATR</td>\n",
       "      <td>The process of taking 2 samples and putting th...</td>\n",
       "      <td>Yo, that was so crazy when Jay Versace started...</td>\n",
       "      <td>2019-03-05</td>\n",
       "      <td>0</td>\n",
       "      <td>0</td>\n",
       "      <td>##sampling #music#producing#narratr\\n</td>\n",
       "    </tr>\n",
       "    <tr>\n",
       "      <th>2</th>\n",
       "      <td>2</td>\n",
       "      <td>Between a Song and a hard place</td>\n",
       "      <td>1569405588179</td>\n",
       "      <td>Quit Raping my Cat</td>\n",
       "      <td>When you find a song you really like, listen t...</td>\n",
       "      <td>\"man, i listened to Feel me Flow by Naughty by...</td>\n",
       "      <td>2010-01-16</td>\n",
       "      <td>3</td>\n",
       "      <td>2</td>\n",
       "      <td>#music#ipod#itunes#song#irritating\\n</td>\n",
       "    </tr>\n",
       "    <tr>\n",
       "      <th>3</th>\n",
       "      <td>3</td>\n",
       "      <td>DHEP</td>\n",
       "      <td>1569405588359</td>\n",
       "      <td>Dr. Krolin Berkox</td>\n",
       "      <td>A word with no original language used to call ...</td>\n",
       "      <td>The new word DHEP is such a DHEP, that it's a ...</td>\n",
       "      <td>2018-05-21</td>\n",
       "      <td>2</td>\n",
       "      <td>1</td>\n",
       "      <td>#noob; failure; flop; stupid; useless;\\n</td>\n",
       "    </tr>\n",
       "    <tr>\n",
       "      <th>4</th>\n",
       "      <td>4</td>\n",
       "      <td>DHET</td>\n",
       "      <td>1569405588616</td>\n",
       "      <td>Godard Chan</td>\n",
       "      <td>Dude Hates Everything Thoughtful... an adjecti...</td>\n",
       "      <td>That DHET should think more about what he says...</td>\n",
       "      <td>2008-08-22</td>\n",
       "      <td>4</td>\n",
       "      <td>4</td>\n",
       "      <td>#dude#hates#everything#thoughtful#likes#funny#...</td>\n",
       "    </tr>\n",
       "  </tbody>\n",
       "</table>\n",
       "</div>"
      ],
      "text/plain": [
       "   Unnamed: 0                             word      timestamp  \\\n",
       "0           0                       b stalking  1569405587337   \n",
       "1           1                Compound-Sampling  1569405587903   \n",
       "2           2  Between a Song and a hard place  1569405588179   \n",
       "3           3                             DHEP  1569405588359   \n",
       "4           4                             DHET  1569405588616   \n",
       "\n",
       "               author                                            meaning  \\\n",
       "0        Jennay200812  when someone gives you so much information to ...   \n",
       "1             NARRATR  The process of taking 2 samples and putting th...   \n",
       "2  Quit Raping my Cat  When you find a song you really like, listen t...   \n",
       "3   Dr. Krolin Berkox  A word with no original language used to call ...   \n",
       "4         Godard Chan  Dude Hates Everything Thoughtful... an adjecti...   \n",
       "\n",
       "                                             example        date  num_likes  \\\n",
       "0  \"So how did you date go?\" \"Horrible. This chic...  2008-07-10          2   \n",
       "1  Yo, that was so crazy when Jay Versace started...  2019-03-05          0   \n",
       "2  \"man, i listened to Feel me Flow by Naughty by...  2010-01-16          3   \n",
       "3  The new word DHEP is such a DHEP, that it's a ...  2018-05-21          2   \n",
       "4  That DHET should think more about what he says...  2008-08-22          4   \n",
       "\n",
       "   num_dislikes                                            taglist  \n",
       "0             1  #facebook#e-mail#bad date#stalker#backwards st...  \n",
       "1             0              ##sampling #music#producing#narratr\\n  \n",
       "2             2               #music#ipod#itunes#song#irritating\\n  \n",
       "3             1           #noob; failure; flop; stupid; useless;\\n  \n",
       "4             4  #dude#hates#everything#thoughtful#likes#funny#...  "
      ]
     },
     "execution_count": 7,
     "metadata": {},
     "output_type": "execute_result"
    }
   ],
   "source": [
    "defs = pd.read_csv(\"data/defs.csv\")\n",
    "defs.head()"
   ]
  },
  {
   "cell_type": "code",
   "execution_count": 7,
   "metadata": {
    "scrolled": true
   },
   "outputs": [
    {
     "data": {
      "text/plain": [
       "(3534966, 10)"
      ]
     },
     "execution_count": 7,
     "metadata": {},
     "output_type": "execute_result"
    }
   ],
   "source": [
    "defs.shape"
   ]
  },
  {
   "cell_type": "code",
   "execution_count": 12,
   "metadata": {},
   "outputs": [
    {
     "data": {
      "image/png": "[encoded data removed]",
      "text/plain": [
       "<Figure size 432x288 with 1 Axes>"
      ]
     },
     "metadata": {
      "needs_background": "light"
     },
     "output_type": "display_data"
    },
    {
     "data": {
      "image/png": "[encoded data removed]",
      "text/plain": [
       "<Figure size 432x288 with 1 Axes>"
      ]
     },
     "metadata": {
      "needs_background": "light"
     },
     "output_type": "display_data"
    },
    {
     "data": {
      "image/png": "[encoded data removed]",
      "text/plain": [
       "<Figure size 432x288 with 1 Axes>"
      ]
     },
     "metadata": {
      "needs_background": "light"
     },
     "output_type": "display_data"
    },
    {
     "data": {
      "image/png": "[encoded data removed]",
      "text/plain": [
       "<Figure size 432x288 with 1 Axes>"
      ]
     },
     "metadata": {
      "needs_background": "light"
     },
     "output_type": "display_data"
    }
   ],
   "source": [
    "# remove outliers\n",
    "hist_df = defs[(defs[\"num_likes\"] < 3000) & (defs[\"num_likes\"] > 50) & (defs[\"num_dislikes\"] < 3000)]\n",
    "plt.hist(hist_df[\"num_likes\"], bins = 100)\n",
    "plt.title(\"Number of likes without outliers\")\n",
    "plt.show()\n",
    "plt.hist(defs[\"num_likes\"], bins = 100, log = True)\n",
    "plt.title(\"Number of likes (log-scale)\")\n",
    "plt.show()\n",
    "plt.hist(hist_df[\"num_dislikes\"], bins = 100)\n",
    "plt.title(\"Number of dislikes without outliers\")\n",
    "plt.show()\n",
    "plt.hist(defs[\"num_dislikes\"], bins = 100, log = True)\n",
    "plt.title(\"Number of dislikes (log-scale)\")\n",
    "plt.show()"
   ]
  },
  {
   "cell_type": "markdown",
   "metadata": {},
   "source": [
    "* Look at a few examples with 20, 50, 100 likes\n",
    "* Look at a few examples with 20, 50, 100 dislikes\n",
    "* Look at a few examples with likes ~= dislikes, likes ~= 2 x dislikes, likes ~= 10 x dislikes\n",
    "* Look at percentage of unigrams"
   ]
  },
  {
   "cell_type": "code",
   "execution_count": 13,
   "metadata": {},
   "outputs": [],
   "source": [
    "def print_likes_examples(df, num_likes, num_examples, seed = 10):\n",
    "    np.random.seed(seed)\n",
    "    if num_likes < 1000:\n",
    "        temp = df[df[\"num_likes\"] == num_likes]\n",
    "        temp = temp.sample(frac = 1)[:num_examples]\n",
    "        print(\"[EXAMPLES WITH {} LIKES]\\n\".format(num_likes))\n",
    "    else: \n",
    "        temp = df[df[\"num_likes\"] >= num_likes]\n",
    "        temp = temp.sample(frac = 1)[:num_examples]\n",
    "        print(\"[EXAMPLES WITH >={} LIKES]\\n\".format(num_likes))\n",
    "    for i in range(0,num_examples):\n",
    "        entry = temp.iloc[i,:]\n",
    "        print('Word \"{}\" with meaning \"{}\" and examples \"{}\"\\n'.format(entry[\"word\"], entry[\"meaning\"], entry[\"example\"]))\n",
    "\n",
    "def print_dislikes_examples(df, num_dislikes, num_examples, seed = 10):\n",
    "    np.random.seed(seed)\n",
    "    if num_dislikes < 1000:\n",
    "        temp = df[df[\"num_dislikes\"] == num_dislikes]\n",
    "        temp = temp.sample(frac = 1)[:num_examples]\n",
    "        print(\"[EXAMPLES WITH {} DISLIKES]\\n\".format(num_dislikes))\n",
    "    else: \n",
    "        temp = df[df[\"num_dislikes\"] >= num_dislikes]\n",
    "        temp = temp.sample(frac = 1)[:num_examples]\n",
    "        print(\"[EXAMPLES WITH >={} DISLIKES]\\n\".format(num_dislikes))\n",
    "    for i in range(0,num_examples):\n",
    "        entry = temp.iloc[i,:]\n",
    "        print('Word \"{}\" with meaning \"{}\" and examples \"{}\"\\n'.format(entry[\"word\"], entry[\"meaning\"], entry[\"example\"]))"
   ]
  },
  {
   "cell_type": "code",
   "execution_count": 14,
   "metadata": {},
   "outputs": [
    {
     "name": "stdout",
     "output_type": "stream",
     "text": [
      "[EXAMPLES WITH 2 LIKES]\n",
      "\n",
      "Word \"Wooja\" with meaning \"when something is extremely cute, adorable, or sometimes sarcastically used.\" and examples \"when an elderly lady comes and pinches your cheeks, she would probably say \"awwhh wooojaaa\" \"that's adorable\" \"so cute!\" \"awww!\" \"hawmahgawd\" \"d'aww\" \"omg, wooja, so adorbz!\"\"\n",
      "\n",
      "Word \"Milf Magnet\" with meaning \"A male 18-25 that is typically considered the \"nice guy\" and is ignored by other girls; a guy that is willing to accept a woman who is pregnant and/or has infants as long as the relationship is right. These are usually teen moms or moms in their young 20's wherein the biological father is not involved whatsoever, allowing the young male to move in as the father figure before the child gets too old to worry.\" and examples \"\"all the teen moms were looking to john for the stability, and the fact he had a secure job. he was lonely and vulnerable to her seduction. he is a milf magnet...\"\"\n",
      "\n",
      "Word \"Hyperventilbating\" with meaning \"The act of masturbating so feverishly that one begins to hyperventilate.\" and examples \"I heard my little brother hyperventilbating last night. We need to get him laid.\"\n",
      "\n",
      "Word \"lolability\" with meaning \"When a n00b/g00b laughs at an inaprporiate time. instead of saying your a fucking liability you say lolability\" and examples \"n00b: lolololololol normal person: your a fucking lolability. fuck off n00b: lol\"\n",
      "\n",
      "Word \"SSIHT\" with meaning \"Coined @ LS2.com for Zed, our notorious foot fetish man. It stands for Stick It In Her Toes. This orginated from SIIHP.\" and examples \"Zed wants to SIIHT!\"\n",
      "\n",
      "[EXAMPLES WITH 20 LIKES]\n",
      "\n",
      "Word \"Bacon factory\" with meaning \"A place crawling with police officers (bacon - cop).\" and examples \"It's a bacon factory out there. Shit.\"\n",
      "\n",
      "Word \"Son Of Dork\" with meaning \"A British pop band started by James Bourne after his previous band, Busted, split up. The members of this band consist of James Bourne, Danny Hall, David Williams, Steven Rushton, and Chris Leonard. They came out with one record, titled \"Welcome to Loserville\" that was released November 21, 2005. They produced two singles, \"Ticket Outta Loserville\" and \"Eddy's Song.\" They are no longer officially together, David, Chris and Steven having left the band.\" and examples \"\"Have you heard that new song called Ticket Outta Loserville?\" \"The one by Son Of Dork?\" \"Yeah! It's awesome! \"Dude! I love that song!\"\"\n",
      "\n",
      "Word \"Straw Balls\" with meaning \"someone that has no backbone,like a scarecrow ,strawballs has no guts and no contents in their balls !\" and examples \"she cant get pregnant by that scared strawballs,nobody can!empty balls.\"\n",
      "\n",
      "Word \"bong\" with meaning \"A Bong is a device, often used by people who smoke cannabis, which helps the user ingest an extreme amount of doughnuts. Each use or hit off a bong is called a rip; a typical user will consume between 4 and 12 doughnuts in a normal bong rip. The device consists of a long hollow tube, or chamber, and an air hole, also known as a carb. To prepare the bong for use the user stuffs the desired amount of doughnuts into the chamber. Care must be taken not to stuff too many doughnuts in or the doughnuts will face an obstruction during the high speed exit phase. Once the bong has been loaded the user wraps their lips around it and turns it upside down. Another person hooks up an air compressor to the carb and starts to inject air around 15 or 20 PSI (2 maple bar). The higher pressure forces the doughnuts down and out the tube. With carefully timed swallowing motions the doughnuts can be swallowed without choking. A bong is typically purchased at a speciality store for consumers of cannabis known as a supermarket. See also: vaporizer Source: Uncyclopedia\" and examples \"Joe just ate 12 donuts in a single rip from the bong. Holy shit!\"\n",
      "\n",
      "Word \"Mary Poppins\" with meaning \"A girl whose pussy is so loose and flobby(probably from being a slut)that she could jump off a building spread her pussy and use her pussy to float down to earth slowly.\" and examples \"Dillon: Did u get any from that chick last night? Chris: Hells ya i did, but shes pretty much the biggest Mary Poppins ever!\"\n",
      "\n",
      "[EXAMPLES WITH 50 LIKES]\n",
      "\n",
      "Word \"slave kennel\" with meaning \"a large metal cage used to hold one or more arabian sex slaves\" and examples \"Eimon brought the slave kennel to his graduation party\"\n",
      "\n",
      "Word \"This is Bob.\" with meaning \"A real loser, a laugh and a half, someone pretending to be a man. Based upon a Spike TV advertisement for some stuff that no real man would want in his body.\" and examples \"This is Bob. Bob needs help. He isn't a real man, so he takes some medicine that will be a man for him. This is Bob's wife. She just fell in love with the medicine and left Bob. See how happy she is.\"\n",
      "\n",
      "Word \"Kyra\" with meaning \"Sweet, beautiful, kind, the best friend a person could have ❤️ Overall a very pretty kind hearted person with a rear personality\" and examples \"She’s pretty!! It must be Kyra!!!!\"\n",
      "\n",
      "Word \"riddled\" with meaning \"Someone with a large collection of STIs/STDS, usually coincides with lack of standards or morals.\" and examples \"\"So I heard Louise slept with three different guys at your party!\" \"Yeah, they musta been drunk, everyone knows Louise is riddled\"\"\n",
      "\n",
      "Word \"Good Evening\" with meaning \"A casual term for mutual agreement between two or more friends.\" and examples \"Vernon: \"Hey Kendall isn't that a great outfit?\" Kendall: \"Good Evening\" Kendall: \"Hey do you want to hit the clubs tonight?\" Larry: \"Good Evening\"\"\n",
      "\n",
      "[EXAMPLES WITH 100 LIKES]\n",
      "\n",
      "Word \"white stuff\" with meaning \"Snow. Precipitation in the form of small ice crystals.\" and examples \"According to the weather forecast we'll be getting plenty of the white stuff tomorrow.\"\n",
      "\n",
      "Word \"Kaili\" with meaning \"Someone that is pale, blue eyed, blonde hair. They talk to much(according to people named Josh) and are VERY random and fun. Laugh a lot, about everything. Clearly, and awesome person.\" and examples \"Kaili Miller\"\n",
      "\n",
      "Word \"Ronald McDonald\" with meaning \"Pedifile, one who loves winkies\" and examples \"Ronald: Hi pedifile sue sue bellanger hi ronald look its howard stern howard stern i have child porn! pedifiles yay\"\n",
      "\n",
      "Word \"Blunder\" with meaning \"A grievous mistake that embarrasses (or should embarrass, at least) the committer.\" and examples \"Only after leaving his office did Mark realize his blunder: he had put his tie on backwards.\"\n",
      "\n",
      "Word \"business finger\" with meaning \"descriptive term for the ever popular middle finger,the finger most favored by those flipping the bird and amateur gynecologists alike...\" and examples \"Paul was known to make use of his business finger when a car cut him off on the highway....\"\n",
      "\n",
      "[EXAMPLES WITH >=1000 LIKES]\n",
      "\n",
      "Word \"Kate Middleton\" with meaning \"The On/OFF girlfriend and bedroom buddy of Prince William. She is rather fond of holidays and waiting around for her boyfriend to propose. Doesnt really seem to know what real work is either. Last seen on the PP website. Check out Kate Sycophants for more on Kate .\" and examples \"\"Kate Middleton.\" has failed to get herself a proper job.\"\n",
      "\n",
      "Word \"ashy dick\" with meaning \"A penis that endures no sexual intercourse for a long period of time (it does not get wet)\" and examples \"Man... It's been awhile. I'm getting an ashy dick\"\n",
      "\n",
      "Word \"british\" with meaning \"Awesome people, and most of the time the best friend of America. But I'm starting to lose faith on my fellow Yanks if we bash the British like that. They never did anything to us since Napoleon...but they did become one of our greatest allies.\" and examples \"I'm pretty damn sure they don't say \"cheerio\" every other word. -_-\"\n",
      "\n",
      "Word \"soundgarden\" with meaning \"simply put, one fucking kick ass rock band\" and examples \"nan\"\n",
      "\n",
      "Word \"Girl\" with meaning \"A female child or a young woman. An extremely impressive creature that has an ability to empathize and love from a very young age. Something that many men takes years to learn and fully grasp, or never learn at all. Unfortunate victims of sexist \"macho\" males and foul pedophiles, who are just insecure coward-fucking arseholes with no souls who got beaten up/abused by their equally pathetic and cowardly dads when they were little.\" and examples \"Girls need lots of love. That little girl is truly an angel. Sexist people, get out of my way. Short-sighted, narrow-minded, condescending, chauvinistic hypocrites. You're all just a bunch of big babies. Let's not regress ourselves to the stone age.\"\n",
      "\n"
     ]
    }
   ],
   "source": [
    "# Likes examples\n",
    "print_likes_examples(defs, 2, 5)\n",
    "print_likes_examples(defs, 20, 5)\n",
    "print_likes_examples(defs, 50, 5)\n",
    "print_likes_examples(defs, 100, 5)\n",
    "print_likes_examples(defs, 1000, 5)"
   ]
  },
  {
   "cell_type": "code",
   "execution_count": 15,
   "metadata": {
    "scrolled": true
   },
   "outputs": [
    {
     "name": "stdout",
     "output_type": "stream",
     "text": [
      "[EXAMPLES WITH 20 DISLIKES]\n",
      "\n",
      "Word \"Headscissor\" with meaning \"A wrestling hold in which the woman clasps her opponent's head between her legs, face-to-bottom and squeezes their head to punish their opponent or force a submission.\" and examples \"She punished her opponent with a powerful head scissors\"\n",
      "\n",
      "Word \"Banana\" with meaning \"another word for a telephone\" and examples \"shut the fuck up! Can't you see I'm on the banana!\"\n",
      "\n",
      "Word \"Yeam\" with meaning \"A quantity of 15. It can be used in the same context as the word \"dozen.\" However, unlike a dozen, a baker's yeam is 14 so the baked goods will be easier to fit in a box. Also, since 15 is an odd number, a half yeam is rounded up to 8.\" and examples \"I'd like a yeam of potatoes from the store.\"\n",
      "\n",
      "Word \"nerp\" with meaning \"1. Nerp A flat shapeless feature found on various parts of the human body 2. Nerps A Woman's breast that are grossly under developed. To the severity of having only nipples for breast. 3. Nerp an its y bits y Breast the size of a Nerp. 4. Nerped That man's penis can be nerped at birth. 5. Nerppability having the ability to shrink into a flat shapeless shriveled mass.\" and examples \"1.The Lady went shopping but was disappointed to find that the manufacturers of Braziers didn't have any Bras in her size to fit her nerps. 2. Nerpability, Oh No! My Rosette Chocolate Bud has been nerped! the sun just melted it into a nerpy puddle of chocolate. Girl to boy Hows Your Rosette Chocolate Bud? I don't Know it's pretty nerped or how is your Muffin? My Muffin is nerp! 3. when the boy jumped into the freezing cold water he realized that his penis had nerpability. Cold water shocked his penis to shrink into nothingness! YAIKES!\"\n",
      "\n",
      "Word \"MTV\" with meaning \"A really bad channel all there is always girls shaking there asses up on the videos and its just sick!dont watch it it sucks really bad so does mtv2 mtv500 or how many there is they suck!\" and examples \"The only good shows on theere would b viva la bam,punkd, and wildboys oh and the rock countdown and that is it!\"\n",
      "\n",
      "[EXAMPLES WITH 50 DISLIKES]\n",
      "\n",
      "Word \"Seven Ways %27Till Sunday\" with meaning \"Used to describe a situation that, regardless of how much time or effort is put into it, is very unlikely to be completed or produce a favorable result. Originated from the idea that the 7 days of the week continue to loop endlessly after Sunday.\" and examples \"You can ask Jenny out seven ways 'till Sunday, Bob, but I doubt she'll ever say yes.\"\n",
      "\n",
      "Word \"angry dragon\" with meaning \"The angry dragon is when a man is getting a blow job from a girl and he is about to cum. right before he cums he takes her head and slams it into his dick making all of the jiz come out her nose.\" and examples \"I gave my girlfreind a nice \"angry dragon\" yesterday.\"\n",
      "\n",
      "Word \"T-Money\" with meaning \"A person who is a \"tool\" or too cocky for their own good. Someone who thinks they are cool/trying to sound cool, but fail horribly.\" and examples \"What man, Im T-Money..THE GREATEST Wow, leave now.\"\n",
      "\n",
      "Word \"Cloverfield\" with meaning \"america's rip-off of godzilla\" and examples \"In the special features the director even said we needed somthing like godzilla, cloverfield\"\n",
      "\n",
      "Word \"florange\" with meaning \"To create out of necessity.\" and examples \"There are no words that rhyme with orange so I had to florange one.\"\n",
      "\n",
      "[EXAMPLES WITH 100 DISLIKES]\n",
      "\n",
      "Word \"Pout\" with meaning \"A girl that is good looking, but there are exceptions to ones that aren't that good looking because there used to just fuck. Like a slut, bitch,piece of meat, etc.\" and examples \"\"you bro look at that pouts\"!!! \"Yo lets go get some pouts\"!!! \"Eh any pouts tonight at the party\"!!!\"\n",
      "\n",
      "Word \"Imagines\" with meaning \"A song by Jogn Lennon about the perfect world in John's eyes. Found on the album of the same name, and every Lennon compilation. It has been covered by several artists.\" and examples \"\"Imagine there's no heaven, it's easy if you try\"\"\n",
      "\n",
      "Word \"Mustang\" with meaning \"People seem to think the mustang is slow, but when they get raped by the 400 hp cobra, they no longer think so. Especially with the ones that have gone 150,000 miles, and are still running strong\" and examples \"that cobra just raped my z28!\"\n",
      "\n",
      "Word \"fuck all\" with meaning \"1. used to denote futility and or the low worth of an attempt 2. something which is worth all of one fuck, which is universally agreed to be less than two shits\" and examples \"Bobby was chatting up a girl at the pub but all of his effords did fuckall for getting him laid\"\n",
      "\n",
      "Word \"Jayme\" with meaning \"An ignoramus person, most often annoying, loud, insensitive. Possibly addicted to a habit and unaware, dismissing any suggestions to help with the addiction. It is common for a Jaymes to have a very short temper, and can only see the one side of things, which favors the subject the most. Most often a moocher and unathletic.\" and examples \"1) You fat fuck, you are such a Jaymes! 2) Holy shit, did you see that? He couldn't even do five push-ups in P.E.! He's such a Jaymes.\"\n",
      "\n",
      "[EXAMPLES WITH >=1000 DISLIKES]\n",
      "\n",
      "Word \"Nigga\" with meaning \"A word that formed from the derogatorative word \"nigger\". This word is used among many people to say stuff such as \"homie\", \"bro\", \"friend\", \"dawg\", etc.. It is mainly used within the African-American culture and MOST (not all, I am African-American and don't get mad about it unless it is being used like \"nigger\". I even get mad when black's use it. =\\) get mad when someone without darker skin uses it, but it is also widely used by many other races and cultures.\" and examples \"Black Person: Whatsup cracka? White Person: Nothin' my nigga! Black Person: What the fuck man! You don't be comin around here callin' me a nigga and shit! Me: Shut the fuck up nigga! I don't get so offended by this shit, and as you can tell.. I'm black!\"\n",
      "\n",
      "Word \"arabs\" with meaning \"A member of the Arabic people, who inhabit the Middle East. Often targeted by the American media as terrorists, the people for whom to blame our problems upon. Many Arabs are of the Islamic faith, although there are many other religious groups as well. Stereotyped as turban-wearing, grinning madmen carrying AK47s, Arabs have contributed greatly to modern society and formed many great empires in the past.\" and examples \"Hey, I wonder what race that guy is? Don't know, he might be an Arab.\"\n",
      "\n",
      "Word \"Scott\" with meaning \"Scott pronounced: (SK-OT) Incredibly good looking with a great six pack. Usually found surrounded by a group of girls but can sometimes be found laying back and reading a book. Always there when you need someone to talk and can easily make you laugh. Friends always come first for scott.\" and examples \"Girl one: Gee last night guess who i hung around? Girl two: o duh girl i already know everyone was hanging around a scott, he's such a swell listener.\"\n",
      "\n",
      "Word \"Arm Cardio\" with meaning \"Masturbation\" and examples \"Since his girlfriend broke up with him, he's really been getting in a lot of arm cardio.\"\n",
      "\n",
      "Word \"Mariah\" with meaning \"a very honest girl who is a very good friend. she never talks bad about you and she is beautiful. she can be pretty crazy at times but everyone is secretly liking her. she is really good at making out and gives guys the best plesure. girls are jealous because everyone likes her and wants to be with her. she isnt a player she likes one boy at a time. and if you are that guy you are hella lucky.\" and examples \"wow that girl is sooo like a mariah. she reminds me of mariah!\"\n",
      "\n"
     ]
    }
   ],
   "source": [
    "print_dislikes_examples(defs, 20, 5)\n",
    "print_dislikes_examples(defs, 50, 5)\n",
    "print_dislikes_examples(defs, 100, 5)\n",
    "print_dislikes_examples(defs, 1000, 5)"
   ]
  },
  {
   "cell_type": "markdown",
   "metadata": {},
   "source": [
    "More interesting: Ratio between likes and dislikes"
   ]
  },
  {
   "cell_type": "code",
   "execution_count": 19,
   "metadata": {},
   "outputs": [],
   "source": [
    "defs[\"like_ratio\"] = defs[\"num_likes\"] / defs[\"num_dislikes\"]"
   ]
  },
  {
   "cell_type": "code",
   "execution_count": 20,
   "metadata": {},
   "outputs": [],
   "source": [
    "def print_ratio_examples(df, min_ratio, max_ratio, min_num_likes, num_examples, seed = 10):\n",
    "    np.random.seed(seed)\n",
    "    temp = df[(df[\"num_likes\"] >= min_num_likes) & (df[\"like_ratio\"] >= min_ratio) &\n",
    "             (df[\"like_ratio\"] <= max_ratio)]\n",
    "    temp = temp.sample(frac = 1)[:num_examples]\n",
    "    print(\"[EXAMPLES WITH {}<=RATIO<={} AND >={} LIKES]\\n\".format(min_ratio, max_ratio, min_num_likes))\n",
    "    for i in range(0,num_examples):\n",
    "        entry = temp.iloc[i,:]\n",
    "        print('Word \"{}\" with meaning \"{}\" and examples \"{}\"\\n'.format(entry[\"word\"], entry[\"meaning\"], entry[\"example\"]))\n"
   ]
  },
  {
   "cell_type": "code",
   "execution_count": 21,
   "metadata": {},
   "outputs": [
    {
     "name": "stdout",
     "output_type": "stream",
     "text": [
      "[EXAMPLES WITH 0.1<=RATIO<=0.2 AND >=500 LIKES]\n",
      "\n",
      "Word \"Lehman Sisters\" with meaning \"Wives/girlfriends of recently-orphaned Lehman Brothers executives who bond to share their collective, unexpected fall down the socio-economic ladder.\" and examples \"Amande and Jane are now the Lehman Sisters 'cause the Devil took away their Prada when their boyfriends lost their jobs on Wall Street.\"\n",
      "\n",
      "Word \"SFA\" with meaning \"sweet fuck all. Amounting to nothing or very little\" and examples \"Wow what a waste, i did SFA this weekend.\"\n",
      "\n",
      "Word \"f%2Fu\" with meaning \"follow-up: to pursue in an effort to take further action\" and examples \"\"Thanks for the f/u. I can always count on you to resolve my concerns promptly.\"\"\n",
      "\n",
      "Word \"Mindy\" with meaning \"1.) \"Mindy\" meaning \"short\" or \"Vertically challenged.\" Commonly known as \"fun sized.\" 2.)Mindy also means \"Easily amused.\"\" and examples \"Did you see how Mindy she was? She doesn't even have to get on her knees.\"\n",
      "\n",
      "Word \"TRDMC\" with meaning \"Tears Running Down My Cheek acronym. Used when something so funny is messaged to you, that you are in tears from laughing so hard. Usually from trying to stifle laughter.\" and examples \"Carly, \"I had to leave the party after clogging the toilet. Meet you by the car...\" Chris, \"TRDMC - I'm going to bust you on that one. Wait there...you'll be able to hear us laugh from the parking lot!\"\"\n",
      "\n",
      "[EXAMPLES WITH 0.5<=RATIO<=0.7 AND >=500 LIKES]\n",
      "\n",
      "Word \"ratchet\" with meaning \"Female version of a tool. Can be used to describe something that looks slutty or trashy.\" and examples \"\"Dude, don't sleep with her! She is one of the biggest ratchets!\" \"I am looking really ratchet! I need to go clean up.\"\"\n",
      "\n",
      "Word \"unhappy hours\" with meaning \"the lack of drink specials during the hours of 4-8 pm on weekdays at a bar\" and examples \"Yo let's go to Brass Rail for drinks after work. Are you kidding? They have an unhappy hour - the beers are $8 each\"\n",
      "\n",
      "Word \"ratchet\" with meaning \"Means Nasty,Crazy, Incredible\" and examples \"Man that girl was fuckin Ratchet.\"\n",
      "\n",
      "Word \"jews\" with meaning \"A group of people that many dislike.\" and examples \"Jew: Hello, I'm Jewish. Normal Person: Ew, I fucking hate you. *punches Jew in the face and pisses in Jew's mouth*\"\n",
      "\n",
      "Word \"Kek\" with meaning \"Kek (Kuk, Keku, Keki) means darkness. He was the god of the darkness of chaos, the darkness before time began. He was the god of obscurity, hidden in the darkness. The Egyptians saw the night-time, the time without the light of the sun, as reflecting this chaotic darkness. In latter days a cult of Kek has risen on /pol/ and other less interesting boards.\" and examples \"\"PRAISE KEK!\" \"Shadilay, brother.\"\"\n",
      "\n",
      "[EXAMPLES WITH 1<=RATIO<=2 AND >=500 LIKES]\n",
      "\n",
      "Word \"cock\" with meaning \"What I love to suck.\" and examples \"MMmm cock is good in my throat.\"\n",
      "\n",
      "Word \"Julia\" with meaning \"a funky fresh individul who has got it goinngg ONNNN. she's amazing, talented, smart, and SUPPPPERR SEXYY. she can be a straight up g, yo.(: she's pretty flyyyy but totally down to earth anyone who meets her loves her incredilby. julia is pretty much the sex.\" and examples \"(boy sees girl) boy: MAN THAT GIRL IS A TOTAL JULIA, I WANT HERRR. that girl banged like a julia. (:\"\n",
      "\n",
      "Word \"fish\" with meaning \"The Jamaican word used to describe a homosexual or gay man. Syn: Gay, Fag, Homo, Queer, Fagget Also a term used for Mexicans because of their swimming skills\" and examples \"I was at the Gay Pride Parade and i saw nuff Fish 2nd Meaning Bob: You havier is a Fish Pablo: Yea cuz his family swam here from Mexico\"\n",
      "\n",
      "Word \"Blue\" with meaning \"Material, used by a stand-up comedian, that is considered crude or obscene\" and examples \"Bill Cosby does not use \"blue\" material. George Carlin uses a whole fucking lot of \"blue\" material\"\n",
      "\n",
      "Word \"Kim\" with meaning \"Like fire; always hot and fiery, with the ability to melt you in seconds. Watch out for this one.\" and examples \"Kim; Sexual\"\n",
      "\n",
      "[EXAMPLES WITH 2<=RATIO<=3 AND >=500 LIKES]\n",
      "\n",
      "Word \"Armenian Power\" with meaning \"An Armenian street gang from the Los Angeles area\" and examples \"Members of Armenian Power were arrested yesterday.\"\n",
      "\n",
      "Word \"Layout Bitching\" with meaning \"The act of users posting statuses on Facebook, bitching and moaning unecessarily about new layouts.\" and examples \"Person A: \"WHAT THE HELL FACEBOOK, Y U ALWAYS CHANGE LAYOUT?\" Person B: \"Shut the hell up and stop layout bitching.\"\"\n",
      "\n",
      "Word \"dat\" with meaning \"that\" and examples \"person 1- How was dat party that last dogg? person 2- dat shit was off da hook\"\n",
      "\n",
      "Word \"gz\" with meaning \"gz is a short word for congratulations or congrats. So really a short version of it. Used in all online RPG's such as Pristonale, WoW etc.\" and examples \"1: \"Hey, i made it!\" 2: \"gz man! :)\"\"\n",
      "\n",
      "Word \"Mensa\" with meaning \"Interestingly, the Spanish use of the word mensa (female) or menso (male)generally denotes someone who is crazy or stupid.\" and examples \"\"No seas menso\".... Don't be crazy. Or, \"mensa, yo te dije que no lo hicieras\"... stupid, I told you not to do it.\"\n",
      "\n",
      "[EXAMPLES WITH 4<=RATIO<=6 AND >=500 LIKES]\n",
      "\n",
      "Word \"xzibit\" with meaning \"Feels the need to cover the world in flat-screen HDTV panels.\" and examples \"When all other rappers focused on the hydrolics market, Xzibit invested in HDTV Panels. He now lives a pimped out life.\"\n",
      "\n",
      "Word \"P.M.A\" with meaning \"acronym for positive mental attitude; an emotional state of wellbeing.\" and examples \"My pma is nonexistant, I think I'm depressed.\"\n",
      "\n",
      "Word \"Republican Logic\" with meaning \"A type of logic that the Republican mind subscribes to. Basically Republican logic tells Republicans that only the rich white male Christian God is the only true God and that everything else is false religion. Republican logic sees no problem with blood soaked oil wars, tax breaks for the rich at the expense of the rest of the country, the gutting of social programs, the destruction of the Bill of Rights, and to make life as miserable as possible for non-Republicans. This sort of logic makes no sense to the rest of the world.\" and examples \"Republican logic is the logic of goose stepping, brown shirt and jack boot wearing thugs.\"\n",
      "\n",
      "Word \"msn messenger\" with meaning \"This is how most teenagers talk, this is used to flirt and talk to other teenagers. Adults are wary of it and all assume we are talking to perverts.\" and examples \"Wanna talk later? - sure we'll talk on msn messenger\"\n",
      "\n",
      "Word \"Reza\" with meaning \"The Persian word for a guy kindhearted who puts others before himself\" and examples \"i am reza\"\n",
      "\n",
      "[EXAMPLES WITH 10<=RATIO<=15 AND >=500 LIKES]\n",
      "\n",
      "Word \"Bella\" with meaning \"The most hotest chick EVER. Megan fox step aside cause u ain got nothing on this girl. Bella is actually stands for Best Entusiastic Lovely Loving Amazing That is what it is and everyone is just a part of the many things she is. She is amazingly cute and I will not ever stop loving her. <3\" and examples \"Bella-Hi Dude- (jaw drops)me? Bella-Ya, i just said hi Dude faints\"\n",
      "\n",
      "Word \"brown out\" with meaning \"when hasan shits himself on stream\" and examples \"my name is hasan and i brown out when i stream\"\n",
      "\n",
      "Word \"Patriot Act\" with meaning \"1. A whole bunch of words that will slowly change an already disfunctional democracy into a completely functional dictatorship or oligarchy. 2. A few papers that could ruin your life.\" and examples \"1. GODDAMNIT! DON'T LET THAT ACT PASS! 2. I hope my report card isn't a patriot act!\"\n",
      "\n",
      "Word \"Time for Vegas\" with meaning \"An expression used to suggest an escape from a daily routine or to flee from reality.\" and examples \"\"Time for Vegas\", sighed Veronica as she sifted through the stack of reports on Thursday morning.\"\n",
      "\n",
      "Word \"Daniella\" with meaning \"Daniella is drop- dead gorgeous. She has an incredible body & style. She is a very amazing girlfriend. There is nothing temporary about her love. Boys are lucky to have her. Every boy will look at her, but she has eyes for that one boy. Boys are always flirting with her. You'll have a hard time forgetting her. She is aslo very smart, funny & classy. Never trashy. She is very nice, forgiving, likeable, sexy, loyal & trustworthy. Her family values her alot. She is a very supportive & loyal friend. She'll be there for anyone anyday. She will show you a good time. Sometimes she gots a wild/crazy side. Very athletic. Prefers track over any sport. She isnt perfect, but again, who is? She loves to just laugh & talk about life. Late night car rides are her favorite. If you find a Daniella, dont let her go. She likes to look good and get compliments, but she denies all of it. Has great eyes, hair & lips. She doesnt care what people think. She is a very hard worker. She never puts her self first. Loves food. Her smile is extraordinary. She is an inspiration. Just show her you love her. If she is sad, just hold her. She'll eventually tell you,but she just wants to be held. Hold her & don't let her go because there is no one esle like her. She manages to put the past behind if you promise her you won't do her wrong again. You only get so many chances. Her weakness is being called babygirl. She deserves the best, so if you tell her you love her, you better mean it.\" and examples \"She is almost as pretty as Daniella.\"\n",
      "\n",
      "[EXAMPLES WITH 15<=RATIO<=100 AND >=500 LIKES]\n",
      "\n",
      "Word \"keen\" with meaning \"To be eager, excited or interested in something/someone. A word of many facets.\" and examples \"Q: \"We should watch Fresh Off the Boat tonight\" C: \"Yeah, I'm totally keen!\" Q: *takes a large bite out of phallus shaped chocolate bar* C: \"Damn, you keen!\" Q: \"Let's have tacos for dinner!\" C: \"Nahhh, I'm not that keen on Mexican\"\"\n",
      "\n",
      "Word \"SKS\" with meaning \"CRIp GANG FOUND AND RULED IN WESTMINSTER, CA. bY SAMOANS, bLACCS, HISpANICS AND ITALIANS IN 1982! S.K.S STANDS FOR \"SOME KRAZY SHITT!\" ORIGINALLY \"SAMOAN KROOK STYLE\" UNTIL INTEGRATED IN 1985! CONSTANTLY WHOOpING THE ASSES OF OTHER LOCAL SETS FOR RECREATIONAL pURpOSES, EVEN WHEN OUTNUMbERED!\" and examples \"WAb: \"WHY CAN'T WE GO DOWN THE WEST SIDE OF WESTMINSTER?\" WAb'S bROTHER: \"bECUZZ, THEM SKS NIGGAS ARE THERE AND WE DON'T WANNA FUCCEN RUN INTO THEM CRAZY MUTHA FUCCAS!\"\"\n",
      "\n",
      "Word \"Sugar Gay\" with meaning \"The whole existence of Cody Ko and Noel Miller\" and examples \"They're always sugar gay anytime any day\"\n",
      "\n",
      "Word \"Allurance\" with meaning \"A ship that needs to die\" and examples \"Fucking Allurance\"\n",
      "\n",
      "Word \"hugh laurie\" with meaning \"A very talented English actor. He often collaborates with Stephen Fry, his best friend since they went to Cambridge together.\" and examples \"Person 1: In the United States, Hugh Laurie is best known for his role in House M.D. Person 2: Those who live in England have his other works more readily available, the lucky barstads. Person 1: That's 'bastards', otherwise good.\"\n",
      "\n"
     ]
    }
   ],
   "source": [
    "print_ratio_examples(defs, 0.1, 0.2, 500, 5)\n",
    "print_ratio_examples(defs, 0.5, 0.7, 500, 5)\n",
    "print_ratio_examples(defs, 1, 2, 500, 5)\n",
    "print_ratio_examples(defs, 2, 3, 500, 5)\n",
    "print_ratio_examples(defs, 4, 6, 500, 5)\n",
    "print_ratio_examples(defs, 10, 15, 500, 5)\n",
    "print_ratio_examples(defs, 15, 100, 500, 5)"
   ]
  },
  {
   "cell_type": "code",
   "execution_count": 22,
   "metadata": {
    "scrolled": true
   },
   "outputs": [
    {
     "name": "stdout",
     "output_type": "stream",
     "text": [
      "[EXAMPLES WITH 10 LIKES]\n",
      "\n",
      "Word \"buffercup\" with meaning \"- someone's who's just so adorable and huggable\" and examples \"\"Darling, you're such a buffercup!\"\"\n",
      "\n",
      "Word \"Crud\" with meaning \"1) Stands for Chronic Really Ugly Disorder. Essentially, when someone is extremely hideous, they are said to be infected with CRUD. 2) An extremely hideous person who has sideburns, a pointy chin, bad acne, scraggly hair, and a large unibrow.\" and examples \"\"Ew. I looked so ugly at the party. I think I might have caught CRUD.\" \"I'm a survivor of CRUD.\"\"\n",
      "\n",
      "Word \"gair cut\" with meaning \"a really gay hair cut\" and examples \"\"haha dood wat a fuckin gair cut\"\"\n",
      "\n",
      "Word \"Nish\" with meaning \"Said randomly whenever something is boring.\" and examples \"\"This is sooo boring!\" said Cara \"Nish...\" said Laura\"\n",
      "\n",
      "Word \"philly points\" with meaning \"When the hairline of your sideburns is cut to come to a point.\" and examples \"Yo you got dem philly points wit dat fresh ass fade kid.\"\n",
      "\n",
      "Word \"purplos\" with meaning \"1) A honey flavored purple sausage, often used as an exclamation or as an insult in Porirua, New Zealand. 2) An extremely small purple chode.\" and examples \"1) 'This bitch slapped me in the face and i was all like PURPLOS!' 2) 'My mate had a real purplo, that shit was wack.'\"\n",
      "\n",
      "Word \"POON MOON\" with meaning \"A poon moon occurs when a woman purposefully flashes her vagina at someone. This is usually a joke, not an invitation for sex.\" and examples \"That little bitch thought she had me when she showed her ass, but I retaliated with a poon moon, and we both know who won that war! The guys at work are always flashing their balls, and since I don't have them I joined in with a poon moon!\"\n",
      "\n",
      "Word \"uber goober\" with meaning \"a man known for having a long, girthy penis\" and examples \"yeah, she is coming over again tonight. she knows whos got the uber goober!\"\n",
      "\n",
      "Word \"thumbs up fail\" with meaning \"When someone comments on youtube beginning with \"Thumbs up if...\" in an attempt to get a high rated comment, but ultimately receives no thumbs up.\" and examples \"\"Thumbs up if Family Guy brought you here!\" thumbs: 0 up, 0 down ---- thumbs up fail\"\n",
      "\n",
      "Word \"dj forehead\" with meaning \"dj! forehead is the front man from Panic! At The Disco, Brendon Urie. also known as Beebo or Breadbin. Beebo is known for having a big forehead so therefore he's dj! forehead.\" and examples \"\"omgg do you go to the Panic! concert last night?!\" \"yes!! dj forehead was totally rockin it out!!\"\"\n",
      "\n"
     ]
    }
   ],
   "source": [
    "print_likes_examples(defs, 10, 10)"
   ]
  },
  {
   "cell_type": "code",
   "execution_count": 23,
   "metadata": {},
   "outputs": [
    {
     "name": "stdout",
     "output_type": "stream",
     "text": [
      "1782250\n",
      "685153\n",
      "1187680\n"
     ]
    }
   ],
   "source": [
    "print(sum(defs[\"num_likes\"] > 5))\n",
    "print(sum(defs[\"like_ratio\"] > 10))\n",
    "print(sum((defs[\"num_likes\"] >= 5) & (defs[\"like_ratio\"] >= 1.5)))"
   ]
  },
  {
   "cell_type": "markdown",
   "metadata": {},
   "source": [
    "### Unigram distribution"
   ]
  },
  {
   "cell_type": "code",
   "execution_count": 24,
   "metadata": {
    "scrolled": true
   },
   "outputs": [
    {
     "name": "stdout",
     "output_type": "stream",
     "text": [
      "Ratio of unigrams:  0.6292937470968604\n"
     ]
    },
    {
     "data": {
      "image/png": "[encoded data removed]",
      "text/plain": [
       "<Figure size 432x288 with 1 Axes>"
      ]
     },
     "metadata": {
      "needs_background": "light"
     },
     "output_type": "display_data"
    }
   ],
   "source": [
    "def count_words(phrase):\n",
    "    if type(phrase) != str:\n",
    "        phrase = str(phrase)\n",
    "    l = phrase.split(' ')\n",
    "    return len(l)\n",
    "\n",
    "word_counts = defs[\"word\"].apply(count_words)\n",
    "print(\"Ratio of unigrams: \", np.count_nonzero(word_counts == 1) / defs.shape[0])\n",
    "plt.hist(word_counts, bins = 100, density = True)\n",
    "plt.title(\"Histogram over word counts in slang phrases\")\n",
    "plt.show()"
   ]
  },
  {
   "cell_type": "code",
   "execution_count": 9,
   "metadata": {},
   "outputs": [],
   "source": [
    "def filter_and_write(df, min_num_likes, min_ratio):\n",
    "    df[\"like_ratio\"] = df[\"num_likes\"] / df[\"num_dislikes\"]\n",
    "    newdf = df[(df[\"num_likes\"] >= min_num_likes) & (df[\"like_ratio\"] >= min_ratio)]\n",
    "    print(df.shape, newdf.shape)\n",
    "    newdf.to_csv(\"data/filtered_defs.csv\")"
   ]
  },
  {
   "cell_type": "code",
   "execution_count": 2,
   "metadata": {},
   "outputs": [],
   "source": [
    "def filter_sample_and_write(df, min_num_likes, min_ratio, name, sample_size = 10000):\n",
    "    df[\"like_ratio\"] = df[\"num_likes\"] / df[\"num_dislikes\"]\n",
    "    newdf = df[(df[\"num_likes\"] >= min_num_likes) & (df[\"like_ratio\"] >= min_ratio)]\n",
    "    newdf = newdf.sample(n=sample_size)\n",
    "    print(df.shape, newdf.shape)\n",
    "    newdf.to_csv(f\"data/{name}.csv\")"
   ]
  },
  {
   "cell_type": "code",
   "execution_count": 13,
   "metadata": {},
   "outputs": [
    {
     "name": "stdout",
     "output_type": "stream",
     "text": [
      "(3534966, 11) (488010, 11)\n"
     ]
    }
   ],
   "source": [
    "filter_and_write(defs, 20, 2)"
   ]
  },
  {
   "cell_type": "code",
   "execution_count": 9,
   "metadata": {},
   "outputs": [
    {
     "name": "stdout",
     "output_type": "stream",
     "text": [
      "(3534966, 11) (100000, 11)\n"
     ]
    }
   ],
   "source": [
    "filter_sample_and_write(defs, 20, 2, name = \"filtered_100000_sampled\", sample_size = 100000)"
   ]
  },
  {
   "cell_type": "code",
   "execution_count": null,
   "metadata": {},
   "outputs": [],
   "source": []
  }
 ],
 "metadata": {
  "kernelspec": {
   "display_name": "Python 3",
   "language": "python",
   "name": "python3"
  },
  "language_info": {
   "codemirror_mode": {
    "name": "ipython",
    "version": 3
   },
   "file_extension": ".py",
   "mimetype": "text/x-python",
   "name": "python",
   "nbconvert_exporter": "python",
   "pygments_lexer": "ipython3",
   "version": "3.7.6"
  }
 },
 "nbformat": 4,
 "nbformat_minor": 5
}
